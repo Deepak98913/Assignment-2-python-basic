{
 "cells": [
  {
   "cell_type": "code",
   "execution_count": null,
   "id": "2d88a558-9600-4a8e-a8ec-547629f4c6fc",
   "metadata": {},
   "outputs": [],
   "source": [
    "# String Based Practice problems:"
   ]
  },
  {
   "cell_type": "code",
   "execution_count": 1,
   "id": "7fa1c290-0b1d-4fd6-b3fc-55469fa7fc11",
   "metadata": {},
   "outputs": [
    {
     "name": "stdout",
     "output_type": "stream",
     "text": [
      "enoyrevE ,olleH\n"
     ]
    }
   ],
   "source": [
    "def reverse_string(input_string):\n",
    "    #step 1 Define a function called reverse_string\n",
    "    reversed_string = \"\"\n",
    "    #step 2 Initalize an empty string called reversed_string\n",
    "    for char in input_string:\n",
    "        #step 3 Star a loop that iritates through each character \n",
    "        reversed_string = char + reversed_string\n",
    "        #step 4 Concatenate the current character with the exesting reversed_string\n",
    "        # This effectively add the current character to the begining of the reversed_string\n",
    "        \n",
    "    return reversed_string  \n",
    "#step 5 After the loop is done, return the reversed_string as the output of the function\n",
    "input_string = \"Hello, Everyone\"\n",
    "reversed_string = reverse_string(input_string)\n",
    "print(reversed_string)"
   ]
  },
  {
   "cell_type": "code",
   "execution_count": 62,
   "id": "45b9fa8f-3e2b-4482-b77f-2669582630ae",
   "metadata": {},
   "outputs": [
    {
     "name": "stdout",
     "output_type": "stream",
     "text": [
      "True\n",
      "False\n",
      "False\n"
     ]
    }
   ],
   "source": [
    "def is_palindrome(s):\n",
    "    #convert the string to lowercase to ensure case-insensitive comparison\n",
    "    s = s.lower()\n",
    "\n",
    "    #remove spaces and punctuation from the string\n",
    "    s = ''.join(e for e in s if e.isalnum())\n",
    "\n",
    "    # Compare the original string with its reverse\n",
    "    return s == s[::-1]\n",
    "print(is_palindrome(\"racecar\"))\n",
    "print(is_palindrome(\"hello\"))\n",
    "print(is_palindrome(\"A man, a car, a canal, raju\"))"
   ]
  },
  {
   "cell_type": "code",
   "execution_count": 7,
   "id": "f432aa61-6dc3-4cd8-a37c-6b4799abbda7",
   "metadata": {},
   "outputs": [
    {
     "name": "stdin",
     "output_type": "stream",
     "text": [
      "Enter a string: Deepak\n"
     ]
    },
    {
     "name": "stdout",
     "output_type": "stream",
     "text": [
      "uppercase string: DEEPAK\n"
     ]
    }
   ],
   "source": [
    "# step 1 get input from the user\n",
    "input_string = input(\"Enter a string:\")\n",
    "\n",
    "# step 2 Convert the string to uppercase\n",
    "uppercase_string = input_string.upper()\n",
    "\n",
    "# step 3 print the uppercase string\n",
    "print(\"uppercase string:\", uppercase_string)\n"
   ]
  },
  {
   "cell_type": "code",
   "execution_count": 16,
   "id": "52fc1b7b-ab48-46b7-8e0b-62006c323003",
   "metadata": {},
   "outputs": [
    {
     "name": "stdin",
     "output_type": "stream",
     "text": [
      "Enter a string:  DEEPAK\n"
     ]
    },
    {
     "name": "stdout",
     "output_type": "stream",
     "text": [
      "Lowercase string: deepak\n"
     ]
    }
   ],
   "source": [
    "#step 1 get input \n",
    "input_string = input(\"Enter a string: \")\n",
    "\n",
    "#step 2 convert the string to lower case\n",
    "lowercase_string = input_string.lower()\n",
    "\n",
    "# step 3 Print the lowercase\n",
    "print(\"Lowercase string:\", lowercase_string)\n",
    "      "
   ]
  },
  {
   "cell_type": "code",
   "execution_count": 28,
   "id": "5001694f-218d-4f03-ae1b-2c38b8397786",
   "metadata": {},
   "outputs": [
    {
     "name": "stdout",
     "output_type": "stream",
     "text": [
      "Number of vowels: 8\n"
     ]
    }
   ],
   "source": [
    "def count_vowels(string):\n",
    "    # Initialize a variable to keep track of the vowel count\n",
    "    vowel_count = 0\n",
    "    \n",
    "    # Convert the input string to lowecase to handle both upper and lower case vowels\n",
    "    string = string.lower()\n",
    "    \n",
    "    # Define a set of vowels\n",
    "    vowels = set(\"aeiou\")\n",
    "    \n",
    "    for char in string:\n",
    "        \n",
    "        if char in vowels:\n",
    "            vowel_count +=1\n",
    "            \n",
    "    # Return the final vowel count\n",
    "    return vowel_count\n",
    "# Test the function\n",
    "input_string = \"Hello, my name is deepak\"\n",
    "result = count_vowels(input_string)\n",
    "print(\"Number of vowels:\", result)"
   ]
  },
  {
   "cell_type": "code",
   "execution_count": 1,
   "id": "15c1ad5a-e328-49b0-bff9-9ede7da6a66a",
   "metadata": {},
   "outputs": [
    {
     "name": "stdin",
     "output_type": "stream",
     "text": [
      "Enter a string:  My name is deepak\n"
     ]
    },
    {
     "name": "stdout",
     "output_type": "stream",
     "text": [
      "Number of consonants: 8\n"
     ]
    }
   ],
   "source": [
    "def count_consonants(string):\n",
    "    # Initalize a variable to keep track of the count of consonants\n",
    "    consonant_count = 0\n",
    "    \n",
    "    # Define a set of consonant characters\n",
    "    consonants = set(\"bcdfghjklmnpqrstvwxyzBCDFGHJKLMNPQRSTVWXYS\")\n",
    "    \n",
    "    # Iterate through each character in the input string\n",
    "    for char in string:\n",
    "        if char in consonants:\n",
    "            consonant_count +=1\n",
    "    # Return the final count of consonants\n",
    "    return consonant_count\n",
    "\n",
    "# Input string\n",
    "input_string = input(\"Enter a string: \")\n",
    "# Call the function and print the result\n",
    "result = count_consonants(input_string)\n",
    "print(\"Number of consonants:\", result)"
   ]
  },
  {
   "cell_type": "code",
   "execution_count": 9,
   "id": "175bfa24-efe2-4903-89bb-896b10e52185",
   "metadata": {},
   "outputs": [
    {
     "name": "stdout",
     "output_type": "stream",
     "text": [
      "HelloEveryoune!How'sitgoing?\n"
     ]
    }
   ],
   "source": [
    "def remove_whitespace(input_string):\n",
    "    # Step 1 Initialize an empty string to store the result.\n",
    "    result = \"\"\n",
    "    \n",
    "    # Step 2 Iterate through each character in the input string.\n",
    "    for char in input_string:\n",
    "        # Step 3 Check if the charater is a whitespace.\n",
    "        if char !=\" \":\n",
    "            \n",
    "            # Step 4 If the character is not a whitespaces\n",
    "            result += char\n",
    "    \n",
    "    # Step 5 Return the result string with all white spaces removed.\n",
    "    return result\n",
    "    \n",
    "# Example \n",
    "input_string = \"Hello   Everyoune! How's   it   going?\"\n",
    "output_string = remove_whitespace(input_string)\n",
    "print(output_string)"
   ]
  },
  {
   "cell_type": "code",
   "execution_count": 11,
   "id": "f4944ff6-bf7c-43a7-833e-cf268cd18121",
   "metadata": {},
   "outputs": [
    {
     "name": "stdout",
     "output_type": "stream",
     "text": [
      "The length of the string is: 38\n"
     ]
    }
   ],
   "source": [
    "# step 1 initalize a variable to keep track of the count\n",
    "count = 0\n",
    "\n",
    "# step 2 iterate through each character in the string\n",
    "for char in input_string:\n",
    "    # step 3 increment the count variable by 1 for each character \n",
    "    count += 1\n",
    "# step 5 Print the finacl count, which represents the lenght of the string\n",
    "print(\"The length of the string is:\", count)"
   ]
  },
  {
   "cell_type": "code",
   "execution_count": 12,
   "id": "b4ff9a7c-808c-4275-ac0c-88a88d84bb5b",
   "metadata": {},
   "outputs": [
    {
     "name": "stdin",
     "output_type": "stream",
     "text": [
      "Enter a string:  this is my class \n",
      "Enter the specific word to check for:  deep\n"
     ]
    },
    {
     "name": "stdout",
     "output_type": "stream",
     "text": [
      "The string does not contain the word 'deep',\n"
     ]
    }
   ],
   "source": [
    "# Step 1 Input the string and the specific word\n",
    "input_string = input(\"Enter a string: \")\n",
    "specific_word = input(\"Enter the specific word to check for: \")\n",
    "\n",
    "# step 2 check if the specific word is present in the string using in 'in' keyword\n",
    "if specific_word in input_string:\n",
    "    # step 3 print message if word is present\n",
    "    print(f\"The string contains the word '{specific_word}'.\")\n",
    "else:\n",
    "    # step 3 print message if word is not present\n",
    "    print(f\"The string does not contain the word '{specific_word}',\")"
   ]
  },
  {
   "cell_type": "code",
   "execution_count": 16,
   "id": "9c7b3a40-b4a5-452c-8124-1b8997bc3c0b",
   "metadata": {},
   "outputs": [
    {
     "name": "stdin",
     "output_type": "stream",
     "text": [
      "Enter a sentence: this is my room\n",
      "Enter the word to be replaced:  room\n",
      "Enter the new word:  class\n"
     ]
    },
    {
     "name": "stdout",
     "output_type": "stream",
     "text": [
      "Modified string: this is my class \n"
     ]
    }
   ],
   "source": [
    "# Step 1 Accept the input string\n",
    "input_strin = input(\"Enter a sentence:\")\n",
    "\n",
    "# Step 2 Accept the old word and the new word\n",
    "old_word = input(\"Enter the word to be replaced: \")\n",
    "new_word = input(\"Enter the new word: \")\n",
    "\n",
    "# Step 3 Replace the old word with the new word using string.replace() method\n",
    "modified_string = input_string.replace(old_word, new_word)\n",
    "# Step 4 Print the modified string\n",
    "print(\"Modified string:\", modified_string)\n"
   ]
  },
  {
   "cell_type": "code",
   "execution_count": 18,
   "id": "b0819986-654c-4610-85d7-f6a7c4095af2",
   "metadata": {},
   "outputs": [
    {
     "name": "stdout",
     "output_type": "stream",
     "text": [
      "The word 'sample' appears 1 times in the input string.\n"
     ]
    }
   ],
   "source": [
    "def count_word_occurrences(input_string, target_word):\n",
    "    # step 1 initialize a variable to keep track of the word count\n",
    "    word_count = 0\n",
    "    # step 2 Split the input string into a list of words\n",
    "    words = input_string.split()\n",
    "    for word in words:\n",
    "        if word == target_word:\n",
    "            word_count +=1\n",
    "    return word_count\n",
    "# Input string\n",
    "input_string = (\"This is a sample sentence. This sentence contans the word 'sample' multiple times.\")\n",
    "target_word = \"sample\"\n",
    "result = count_word_occurrences(input_string, target_word)\n",
    "print(f\"The word '{target_word}' appears {result} times in the input string.\")\n",
    "            "
   ]
  },
  {
   "cell_type": "code",
   "execution_count": 22,
   "id": "42267c27-c33c-450d-9074-0a4b49910a8f",
   "metadata": {},
   "outputs": [
    {
     "name": "stdout",
     "output_type": "stream",
     "text": [
      "Index of the first occurrence: 11\n"
     ]
    }
   ],
   "source": [
    "def find_first_occurrence(text, word):\n",
    "    # step 1 find the index of the first occurence \n",
    "    index = text.find(word)\n",
    "    if index == -1:\n",
    "        return none\n",
    "    return index\n",
    "# Example \n",
    "text = (\"This is an example sentence. This sentence contains the word example.\")\n",
    "word = \"example\"\n",
    "result = find_first_occurrence(text, word)\n",
    "print(\"Index of the first occurrence:\", result)"
   ]
  },
  {
   "cell_type": "code",
   "execution_count": 24,
   "id": "c6d24fdb-6ef4-4783-ab4d-c6552cb39f86",
   "metadata": {},
   "outputs": [
    {
     "name": "stdout",
     "output_type": "stream",
     "text": [
      "Index of the last occurrence: 66\n"
     ]
    }
   ],
   "source": [
    "def find_last_occurrence(text, word):\n",
    "    #Step 1 find the index of the last occurence of the word in the text.\n",
    "    index = text.rfind(word)\n",
    "    if index == -1:\n",
    "        return none\n",
    "    return index\n",
    "# Example\n",
    "text = (\"This is an example sentence. This sentence also contains the word example.\")\n",
    "word = \"example\"\n",
    "result = find_last_occurrence(text, word)\n",
    "print(\"Index of the last occurrence:\", result)"
   ]
  },
  {
   "cell_type": "code",
   "execution_count": 26,
   "id": "fe0af53a-4c43-48e7-94ab-a5f298d496da",
   "metadata": {},
   "outputs": [
    {
     "name": "stdout",
     "output_type": "stream",
     "text": [
      "List of words: ['My', 'name', 'is', 'Deepak.']\n"
     ]
    }
   ],
   "source": [
    "def split_string_into_words(text):\n",
    "    # Step 1: Use the split() method to split the text into a list of words.\n",
    "    words_list = text.split()\n",
    "    # Step 2: Return the list of words.\n",
    "    return words_list\n",
    "# example\n",
    "text = \"My name is Deepak.\"\n",
    "words = split_string_into_words(text)\n",
    "print(\"List of words:\", words)"
   ]
  },
  {
   "cell_type": "code",
   "execution_count": 33,
   "id": "b31ac516-e7d1-4b03-ab63-19b91d5b87c5",
   "metadata": {},
   "outputs": [
    {
     "name": "stdout",
     "output_type": "stream",
     "text": [
      "Joined string: My name is Deepak.\n"
     ]
    }
   ],
   "source": [
    "def join_words_into_string(words_list):\n",
    "    joined_string = ' '.join(words_list)\n",
    "    return joined_string\n",
    "# example\n",
    "word = [\"my\", \"name\", \"is\", \"deepak.\"]\n",
    "text = join_words_into_string(words)\n",
    "print(\"Joined string:\", text)"
   ]
  },
  {
   "cell_type": "code",
   "execution_count": 34,
   "id": "657e4a7b-b6fc-4405-bb6f-6b94cd8178a9",
   "metadata": {},
   "outputs": [
    {
     "name": "stdout",
     "output_type": "stream",
     "text": [
      "Converted text: My_name_is_Deepak.\n"
     ]
    }
   ],
   "source": [
    "def convert_to_underscore_seprated(text):\n",
    "    #step 1 use the ()replace method spaces with underscores.\n",
    "    underscore_seprated = text.replace(\" \",\"_\")\n",
    "    # Step 2 Return the converted string.\n",
    "    return underscore_seprated\n",
    "# Example\n",
    "text = \"My name is Deepak.\"\n",
    "converted_text = convert_to_underscore_seprated(text)\n",
    "print(\"Converted text:\", converted_text)\n",
    "    "
   ]
  },
  {
   "cell_type": "code",
   "execution_count": 36,
   "id": "feecaee0-f046-496e-adc6-278f3974dba7",
   "metadata": {},
   "outputs": [
    {
     "name": "stdout",
     "output_type": "stream",
     "text": [
      "The text starts with the prefix.\n"
     ]
    }
   ],
   "source": [
    "def starts_with(text, prefix):\n",
    "    # Step 1 use the starswith() method to check if the text stars with the specified prefix.\n",
    "    is_start = text.startswith(prefix)\n",
    "    # Step 2 Return the result\n",
    "    return is_start\n",
    "#example\n",
    "text = \"Hello, Everyone!\"\n",
    "prefix = \"Hello\"\n",
    "result = starts_with(text, prefix)\n",
    "if result:\n",
    "    print(\"The text starts with the prefix.\")\n",
    "else:\n",
    "    print(\"The text does not starts with prefix.\")\n",
    "    "
   ]
  },
  {
   "cell_type": "code",
   "execution_count": 37,
   "id": "4f1b2028-e7e8-441f-9c42-a3ee7824bfbe",
   "metadata": {},
   "outputs": [
    {
     "name": "stdout",
     "output_type": "stream",
     "text": [
      "The text ends with the suffix.\n"
     ]
    }
   ],
   "source": [
    "def ends_with(text, suffix):\n",
    "    #Step 1 use the endswith() method to check if the text ends with the specified suffix.\n",
    "    is_end = text.endswith(suffix)\n",
    "    # Step 2 Return the result of the check.\n",
    "    return is_end\n",
    "#Example\n",
    "text = \"Hello, Everone!\"\n",
    "suffix = \"Everone!\"\n",
    "result = ends_with(text, suffix)\n",
    "if result:\n",
    "    print(\"The text ends with the suffix.\")\n",
    "else:\n",
    "    print(\"The text does not end with the suffix.\")\n"
   ]
  },
  {
   "cell_type": "code",
   "execution_count": 39,
   "id": "f7fb8277-121d-4a3e-b415-c84f5224be59",
   "metadata": {},
   "outputs": [
    {
     "name": "stdout",
     "output_type": "stream",
     "text": [
      "Title case: Hello World\n"
     ]
    }
   ],
   "source": [
    "def convert_to_title_case(text):\n",
    "    title_case_text = text.title()\n",
    "    return title_case_text\n",
    "#Example\n",
    "text = \"hello world\"\n",
    "title_case_result = convert_to_title_case(text)\n",
    "print(\"Title case:\", title_case_result)"
   ]
  },
  {
   "cell_type": "code",
   "execution_count": 44,
   "id": "620bb5e8-f815-4f5a-a7be-a830b63ee292",
   "metadata": {},
   "outputs": [
    {
     "name": "stdout",
     "output_type": "stream",
     "text": [
      "Longest word: sentence\n"
     ]
    }
   ],
   "source": [
    "def find_longest_word(text):\n",
    "    #Step 1 use the split() method to split text\n",
    "    words = text.split()\n",
    "    # Step 2 Iniitalize variables to keep trackthe logest word and its length.\n",
    "    longest_word = \"\"\n",
    "    max_length = 0\n",
    "    # Step 3 iterate through the list of words.\n",
    "    for word in words:\n",
    "        # Check if the lenght of the current word is grater than the current max_lenght.\n",
    "        if len(word) > max_length:\n",
    "            max_length = len(word)\n",
    "            longest_word = word\n",
    "    # Step 4 Return the longest word   \n",
    "    return longest_word\n",
    "# Example\n",
    "text = (\"This is an example sentence with some long words.\")\n",
    "longest_word = find_longest_word(text)\n",
    "print(\"Longest word:\", longest_word)"
   ]
  },
  {
   "cell_type": "code",
   "execution_count": 55,
   "id": "27605632-e91f-490e-87cd-f18ac6af3524",
   "metadata": {},
   "outputs": [
    {
     "name": "stdout",
     "output_type": "stream",
     "text": [
      "Shortest word: is\n"
     ]
    }
   ],
   "source": [
    "def find_shortest_word(text):\n",
    "    words = text.split()\n",
    "    shortest_word = None\n",
    "    min_length = float('inf') # Initialize to a large value\n",
    "    for word in words:\n",
    "        if len(word) < min_length:\n",
    "            min_length = len(word)\n",
    "            shortest_word = word\n",
    "    return shortest_word\n",
    "#example\n",
    "text = \"This is an example sentence with some short words.\"\n",
    "shortest_word = find_shortest_word(text)\n",
    "print(\"Shortest word:\", shortest_word)"
   ]
  },
  {
   "cell_type": "code",
   "execution_count": 56,
   "id": "c02145f3-6f5f-4c14-814f-997bf643719c",
   "metadata": {},
   "outputs": [
    {
     "name": "stdout",
     "output_type": "stream",
     "text": [
      "The string is alphanumeric.\n"
     ]
    }
   ],
   "source": [
    "def is_alphanumeric(text):\n",
    "    # Step 1 use the isalnum () method to check if the string is alphenumeric.\n",
    "    return text.isalnum()\n",
    "#Example\n",
    "text = \"Hello989\"\n",
    "result = is_alphanumeric(text)\n",
    "if result:\n",
    "    print(\"The string is alphanumeric.\")\n",
    "else:\n",
    "    print(\"The string is not alphanumeric.\")\n"
   ]
  },
  {
   "cell_type": "code",
   "execution_count": 63,
   "id": "d179077c-ce5f-411b-8e50-494d83f5ff51",
   "metadata": {},
   "outputs": [
    {
     "name": "stdout",
     "output_type": "stream",
     "text": [
      "M y n a m e i s d e e p a k m y a g e i s\n"
     ]
    }
   ],
   "source": [
    "def extract_alphabets(input_string):\n",
    "    alphabets = ' '.join([char for char in input_string if char.isalpha()])\n",
    "    return alphabets\n",
    "#example\n",
    "input_string = \"Mynameisdeepakmyageis1324\"\n",
    "result = extract_alphabets(input_string)\n",
    "print(result)"
   ]
  },
  {
   "cell_type": "code",
   "execution_count": 65,
   "id": "7fa2d032-ff58-43e0-9ef5-ec00ebbc2729",
   "metadata": {},
   "outputs": [
    {
     "name": "stdout",
     "output_type": "stream",
     "text": [
      "2\n"
     ]
    }
   ],
   "source": [
    "def count_uppercase(input_string):\n",
    "    uppercase_count = sum(1 for char in input_string if char.isupper())\n",
    "    return uppercase_count\n",
    "#Example input_String\n",
    "input_string = \"HelloEveryone\"\n",
    "result = count_uppercase(input_string)\n",
    "print(result)"
   ]
  },
  {
   "cell_type": "code",
   "execution_count": 71,
   "id": "dff3b6ce-4163-407c-9e04-b1a7f1744ad9",
   "metadata": {},
   "outputs": [
    {
     "name": "stdout",
     "output_type": "stream",
     "text": [
      "10\n"
     ]
    }
   ],
   "source": [
    "def count_lowercase(input_string):\n",
    "    lowercase_count = sum(1 for char in input_string if char.islower())\n",
    "    return lowercase_count\n",
    "# Example\n",
    "input_string = \"MyNameIsDeepak\"\n",
    "result = count_lowercase(input_string)\n",
    "print(result)"
   ]
  },
  {
   "cell_type": "code",
   "execution_count": 74,
   "id": "379f1204-0d9b-42b1-98f1-0fc238591fe0",
   "metadata": {},
   "outputs": [
    {
     "name": "stdout",
     "output_type": "stream",
     "text": [
      "HELLOworld\n"
     ]
    }
   ],
   "source": [
    "def swap_case(input_string):\n",
    "    swapped_string = input_string.swapcase()\n",
    "    return swapped_string\n",
    "# example\n",
    "input_string = \"helloWORLD\"\n",
    "result = swap_case(input_string)\n",
    "print(result)"
   ]
  },
  {
   "cell_type": "code",
   "execution_count": 75,
   "id": "5abdd43a-16e8-4547-bb3e-c6aa8b21afc6",
   "metadata": {},
   "outputs": [
    {
     "name": "stdout",
     "output_type": "stream",
     "text": [
      "Hello world, welcome to the of programming.\n"
     ]
    }
   ],
   "source": [
    "def remove_word(input_string, word_to_remove):\n",
    "    words = input_string.split() #split the input string into a list of words\n",
    "    filtered_words = [word for word in words if word != word_to_remove]\n",
    "    modified_string = ' '.join(filtered_words)\n",
    "    return modified_string\n",
    "# Example\n",
    "input_string = \"Hello world, welcome to the world of programming.\"\n",
    "word_to_remove = \"world\"\n",
    "result = remove_word(input_string, word_to_remove)\n",
    "print(result)"
   ]
  },
  {
   "cell_type": "code",
   "execution_count": 78,
   "id": "f25b31cd-b776-456a-8dcf-8294a5bbf1ee",
   "metadata": {},
   "outputs": [
    {
     "name": "stdout",
     "output_type": "stream",
     "text": [
      "True\n",
      "False\n"
     ]
    }
   ],
   "source": [
    "import re #import the regular expression module\n",
    "def is_valid_email(email):\n",
    "    pattern = r'^[\\w\\.-]+@[\\w\\.-]+\\.\\w+$'\n",
    "    if re.match(pattern, email):\n",
    "        return True\n",
    "    else:\n",
    "        return False\n",
    "# Example\n",
    "email1 = \"psdeepak@gmail.com\"\n",
    "email2 = \"invalid-email\"\n",
    "result1 = is_valid_email(email1)\n",
    "result2 = is_valid_email(email2)\n",
    "print(result1)\n",
    "print(result2)"
   ]
  },
  {
   "cell_type": "code",
   "execution_count": 3,
   "id": "2048aaa2-2a6b-46e2-b79d-7ef00c6f82bf",
   "metadata": {},
   "outputs": [
    {
     "name": "stdout",
     "output_type": "stream",
     "text": [
      "psdeepak\n"
     ]
    }
   ],
   "source": [
    "def extract_username(email):\n",
    "    username = email.split('@')[0] \n",
    "    return username\n",
    "# Example\n",
    "email = \"psdeepak@email.com\"\n",
    "result = extract_username(email)\n",
    "print(result)"
   ]
  },
  {
   "cell_type": "code",
   "execution_count": 2,
   "id": "66e268a3-0b5d-4f22-ba7a-177e56a19740",
   "metadata": {},
   "outputs": [
    {
     "name": "stdout",
     "output_type": "stream",
     "text": [
      "email.com\n"
     ]
    }
   ],
   "source": [
    "def extract_domain(email):\n",
    "    domain = email.split('@')[1] \n",
    "    return domain\n",
    "# Example\n",
    "email = \"psdeepak@email.com\"\n",
    "result = extract_domain(email)\n",
    "print(result)"
   ]
  },
  {
   "cell_type": "code",
   "execution_count": 4,
   "id": "bc5b75e0-c861-4f7f-a1bf-f7005c13511b",
   "metadata": {},
   "outputs": [
    {
     "name": "stdout",
     "output_type": "stream",
     "text": [
      "Hello world! How are you?\n"
     ]
    }
   ],
   "source": [
    "def replace_multiple_spaces(input_string):\n",
    "    cleaned_string = ' '.join(input_string.split()) \n",
    "    return cleaned_string\n",
    "#example\n",
    "input_string = \"Hello    world!  How    are   you?\"\n",
    "result = replace_multiple_spaces(input_string)\n",
    "print(result)"
   ]
  },
  {
   "cell_type": "code",
   "execution_count": 8,
   "id": "80c3c820-9177-4d4d-a6b2-93089d880b17",
   "metadata": {},
   "outputs": [
    {
     "name": "stdout",
     "output_type": "stream",
     "text": [
      "True\n",
      "False\n"
     ]
    }
   ],
   "source": [
    "from urllib.parse import urlparse\n",
    "def is_valid_url(url):\n",
    "    try:\n",
    "        result = urlparse(url)\n",
    "        return all([result.scheme, result.netloc])\n",
    "    except ValueError:\n",
    "        return False\n",
    "#Example\n",
    "url1 = \"https://www.meddeep.com\"\n",
    "url2 = \"invalid-url\"\n",
    "result1 = is_valid_url(url1)\n",
    "result2 = is_valid_url(url2)\n",
    "print(result1)\n",
    "print(result2)\n",
    "        \n",
    "        "
   ]
  },
  {
   "cell_type": "code",
   "execution_count": 15,
   "id": "a7713612-004e-427f-aeff-59232961e043",
   "metadata": {},
   "outputs": [
    {
     "name": "stdout",
     "output_type": "stream",
     "text": [
      "Protocol 1: https\n",
      "Protocol 2: http\n",
      "Protocol 3: ftp\n"
     ]
    }
   ],
   "source": [
    "def extract_protocol(url):\n",
    "    # find the index of the first occurrence of '://\"\n",
    "    protocol_end = url.find(\"://\")\n",
    "    \n",
    "    if protocol_end != -1:\n",
    "        protocol = url[:protocol_end]\n",
    "        return protocol\n",
    "    else:\n",
    "        return None\n",
    "# examples url\n",
    "url1 = \"https://www.meddep.com\"\n",
    "url2 = \"http://facebook.com\"\n",
    "url3 = \"ftp://ftp.example.com\"\n",
    "# Extract protocols\n",
    "protocol1 = extract_protocol(url1)\n",
    "protocol2 = extract_protocol(url2)\n",
    "protocol3 = extract_protocol(url3)\n",
    "#print extracted protocols\n",
    "print(\"Protocol 1:\", protocol1)\n",
    "print(\"Protocol 2:\", protocol2)\n",
    "print(\"Protocol 3:\", protocol3)"
   ]
  },
  {
   "cell_type": "code",
   "execution_count": 16,
   "id": "fcd2f2cf-b2fe-4139-9fdb-c5dad5bf8337",
   "metadata": {},
   "outputs": [
    {
     "name": "stdout",
     "output_type": "stream",
     "text": [
      "character: 'h', Frequency: 1\n",
      "character: 'e', Frequency: 4\n",
      "character: 'l', Frequency: 2\n",
      "character: 'o', Frequency: 2\n",
      "character: ' ', Frequency: 1\n",
      "character: 'v', Frequency: 1\n",
      "character: 'r', Frequency: 1\n",
      "character: 'y', Frequency: 1\n",
      "character: 'n', Frequency: 1\n"
     ]
    }
   ],
   "source": [
    "def character_frequency(input_string):\n",
    "    frequency = {}\n",
    "    for char in input_string:\n",
    "        if char in frequency:\n",
    "            frequency[char] +=1\n",
    "        else:\n",
    "            frequency[char] = 1\n",
    "    return frequency\n",
    "# example string\n",
    "input_str = \"hello everyone\"\n",
    "# calculate character frequencies\n",
    "char_freq = character_frequency(input_str)\n",
    "#print character frequencies\n",
    "for char, freq in char_freq.items():\n",
    "    print(f\"character: '{char}', Frequency: {freq}\")"
   ]
  },
  {
   "cell_type": "code",
   "execution_count": 17,
   "id": "650c4e89-f632-4022-9b57-f87dcb66964e",
   "metadata": {},
   "outputs": [
    {
     "name": "stdout",
     "output_type": "stream",
     "text": [
      "Original string: Hello, everyone! how's it going?\n",
      "Cleaned string: Hello everyone hows it going\n"
     ]
    }
   ],
   "source": [
    "import string\n",
    "def remove_punctuation(input_string):\n",
    "    #create a translation table to remove punctuatuion\n",
    "    translator = str.maketrans(\"\", \"\", string.punctuation)\n",
    "    # use the translation tablet to remove punctuation\n",
    "    clean_string = input_string.translate(translator)\n",
    "    \n",
    "    return clean_string\n",
    "# Example string with punctuation\n",
    "input_str = \"Hello, everyone! how's it going?\"\n",
    "#remove punctuation\n",
    "cleaned_str = remove_punctuation(input_str)\n",
    "# print\n",
    "print(\"Original string:\", input_str)\n",
    "print(\"Cleaned string:\", cleaned_str)"
   ]
  },
  {
   "cell_type": "code",
   "execution_count": 20,
   "id": "fe9116c3-2b90-4268-b9e1-220e1105f932",
   "metadata": {},
   "outputs": [
    {
     "name": "stdout",
     "output_type": "stream",
     "text": [
      "'2323425' contains only digits: True\n",
      "'flsjkdj2312' contains only digits: False\n",
      "'324324.45' contains only digits: False\n"
     ]
    }
   ],
   "source": [
    "def contains_only_digits(input_string):\n",
    "    #check if all character in the string are digits\n",
    "    return input_string.isdigit()\n",
    "# example\n",
    "string1 = \"2323425\" \n",
    "string2 = \"flsjkdj2312\"\n",
    "string3 = \"324324.45\"\n",
    "# check if string contains only digits\n",
    "result1 = contains_only_digits(string1)\n",
    "result2 = contains_only_digits(string2)\n",
    "result3 = contains_only_digits(string3)\n",
    "# Print \n",
    "print(f\"'{string1}' contains only digits:\", result1)\n",
    "print(f\"'{string2}' contains only digits:\", result2)\n",
    "print(f\"'{string3}' contains only digits:\", result3)"
   ]
  },
  {
   "cell_type": "code",
   "execution_count": 23,
   "id": "015887f5-7004-4022-814f-f41764791b4a",
   "metadata": {},
   "outputs": [
    {
     "name": "stdout",
     "output_type": "stream",
     "text": [
      "'deepak' contains only alphabets: True\n",
      "'deepak345' contains only alphabets: False\n"
     ]
    }
   ],
   "source": [
    "def contains_only_alphabets(input_string):\n",
    "    #check if all characters in the string are alphabetic\n",
    "    return input_string.isalpha()\n",
    "#example strings\n",
    "string1 = \"deepak\"\n",
    "string2 = \"deepak345\"\n",
    "#check if strings contains only alphabet\n",
    "result1 = contains_only_alphabets(string1)\n",
    "result2 = contains_only_alphabets(string2)\n",
    "# print\n",
    "print(f\"'{string1}' contains only alphabets:\", result1)\n",
    "print(f\"'{string2}' contains only alphabets:\",result2)"
   ]
  },
  {
   "cell_type": "code",
   "execution_count": 25,
   "id": "ba047281-b2f7-46fb-bc26-3520fc36e481",
   "metadata": {},
   "outputs": [
    {
     "name": "stdout",
     "output_type": "stream",
     "text": [
      "Original string: Hello, Everyone!\n",
      "List of characters: ['H', 'e', 'l', 'l', 'o', ',', ' ', 'E', 'v', 'e', 'r', 'y', 'o', 'n', 'e', '!']\n"
     ]
    }
   ],
   "source": [
    "def string_to_list(input_string):\n",
    "    #use list() constructor to convert the string to a list of characters\n",
    "    char_list = list(input_string)\n",
    "    return char_list\n",
    "#example\n",
    "input_str = \"Hello, Everyone!\"\n",
    "#convert the string to a list\n",
    "char_list = string_to_list(input_str)\n",
    "#print\n",
    "print(\"Original string:\", input_str)\n",
    "print(\"List of characters:\", char_list)"
   ]
  },
  {
   "cell_type": "code",
   "execution_count": 26,
   "id": "7cdd0b6f-c066-4757-a7a1-54ad38a2317c",
   "metadata": {},
   "outputs": [
    {
     "name": "stdout",
     "output_type": "stream",
     "text": [
      "'Deepak' and 'Hello' are anagrams: False\n",
      "'Good' and 'doing' are anagrams: False\n"
     ]
    }
   ],
   "source": [
    "def are_anagrams(str1, str2):\n",
    "    #Remove spaces and convert strings to lowercase for accurate comparision\n",
    "    str1 = str1.replace(\" \", \"\").lower()\n",
    "    str2 = str2.replace(\" \", \"\").lower()\n",
    "    return sorted(str1) == sorted(str2)\n",
    "# Example\n",
    "string1 = \"Deepak\"\n",
    "string2 = \"Hello\"\n",
    "string3 = \"Good\"\n",
    "string4 = \"doing\"\n",
    "\n",
    "#check string are anagrams\n",
    "result1 = are_anagrams(string1, string2)\n",
    "result2 = are_anagrams(string3, string4)\n",
    "#print\n",
    "print(f\"'{string1}' and '{string2}' are anagrams:\", result1)\n",
    "print(f\"'{string3}' and '{string4}' are anagrams:\", result2)"
   ]
  },
  {
   "cell_type": "code",
   "execution_count": 36,
   "id": "d1fe88b6-45f5-405b-935c-cdd083c57f12",
   "metadata": {},
   "outputs": [
    {
     "name": "stdout",
     "output_type": "stream",
     "text": [
      "Encoded text: ehoor, hyhubrqh!\n"
     ]
    }
   ],
   "source": [
    "# Define a function named caesar_cipher that encodes a string using a Caesar cipher.\n",
    "def caesar_cipher(text, shift):\n",
    "  \"\"\"\n",
    "  Encodes a string using a Caesar cipher.\n",
    "\n",
    "  Args:\n",
    "    text: The string to encode.\n",
    "    shift: The number of positions to shift each letter.\n",
    "\n",
    "  Returns:\n",
    "    The encoded string.\n",
    "  \"\"\"\n",
    "\n",
    "  # Initialize an empty string to store the encoded text.\n",
    "  encoded_text = \"\"\n",
    "\n",
    "  # Iterate through each character in the input text.\n",
    "  for char in text:\n",
    "    # Check if the character is alphabetic.\n",
    "    if char.isalpha():\n",
    "      # Calculate the encoded character's Unicode code point value by shifting it by the specified amount.\n",
    "      # Ensure the value wraps around within the lowercase alphabet range (a-z).\n",
    "      encoded_char = chr((ord(char) + shift - ord('a')) % 26 + ord('a'))\n",
    "    else:\n",
    "      # Keep non-alphabetic characters unchanged.\n",
    "      encoded_char = char\n",
    "\n",
    "    # Add the encoded character to the encoded text.\n",
    "    encoded_text += encoded_char\n",
    "\n",
    "  # Return the resulting encoded text.\n",
    "  return encoded_text\n",
    "\n",
    "# Define the input text and the shift value for encoding.\n",
    "text = \"Hello, everyone!\"\n",
    "shift = 3\n",
    "\n",
    "# Call the caesar_cipher function to encode the text using the specified shift.\n",
    "encoded_text = caesar_cipher(text, shift)\n",
    "\n",
    "# Print the encoded text.\n",
    "print(\"Encoded text:\", encoded_text)"
   ]
  },
  {
   "cell_type": "code",
   "execution_count": 38,
   "id": "e49a3cc9-e8d7-48f5-aece-ac74b9a4ff20",
   "metadata": {},
   "outputs": [
    {
     "name": "stdout",
     "output_type": "stream",
     "text": [
      "Decoded text: bello, everyone\n"
     ]
    }
   ],
   "source": [
    "# Define a function to decode a string using a Caesar cipher\n",
    "def caesar_cipher_decoder(text, shift):\n",
    "    \"\"\"\n",
    "    Decodes a string using a Caesar cipher.\n",
    "\n",
    "    Args:\n",
    "        text: The string to decode.\n",
    "        shift: The number of positions to shift each letter.\n",
    "\n",
    "    Returns:\n",
    "        The decoded string.\n",
    "    \"\"\"\n",
    "\n",
    "    # Initialize an empty string to store the decoded text\n",
    "    decoded_text = \"\"\n",
    "\n",
    "    # Loop through each character in the input text\n",
    "    for char in text:\n",
    "        # Check if the character is an alphabetic character\n",
    "        if char.isalpha():\n",
    "            # Calculate the decoded character using the shift value\n",
    "            decoded_char = chr((ord(char) - shift - ord('a')) % 26 + ord('a'))\n",
    "        else:\n",
    "            # If the character is not alphabetic, keep it unchanged\n",
    "            decoded_char = char\n",
    "\n",
    "        # Add the decoded character to the decoded text\n",
    "        decoded_text += decoded_char\n",
    "\n",
    "    # Return the fully decoded text\n",
    "    return decoded_text\n",
    "\n",
    "# Example input\n",
    "text = \"ehoor, hyhubrqh\"\n",
    "shift = 3\n",
    "\n",
    "# Call the caesar_cipher_decoder function to decode the input text\n",
    "decoded_text = caesar_cipher_decoder(text, shift)\n",
    "\n",
    "# Print the decoded text\n",
    "print(\"Decoded text:\", decoded_text)"
   ]
  },
  {
   "cell_type": "code",
   "execution_count": 42,
   "id": "4fc89542-dc74-4d5a-9fda-c6bcbb52b486",
   "metadata": {},
   "outputs": [
    {
     "name": "stdout",
     "output_type": "stream",
     "text": [
      "Most frequent word: hello\n"
     ]
    }
   ],
   "source": [
    "import re\n",
    "from collections import Counter\n",
    "\n",
    "def most_frequent_word(input_string):\n",
    "    # Remove punctuation and convert to lowercase\n",
    "    clean_string = re.sub(r'[^\\w\\s]', '', input_string).lower()\n",
    "\n",
    "    # Split the string into words\n",
    "    words = clean_string.split()\n",
    "\n",
    "    # Use Counter to count word frequencies\n",
    "    word_counter = Counter(words)\n",
    "\n",
    "    # Find the most common word\n",
    "    most_common_word = word_counter.most_common(1)[0][0]\n",
    "\n",
    "\n",
    "\n",
    "\n",
    "    return most_common_word\n",
    "\n",
    "# Example \n",
    "input_str = \"Hello world, hello there! How's the world?\"\n",
    "\n",
    "#find the most frequent word\n",
    "most_common = most_frequent_word(input_str)\n",
    "\n",
    "#print\n",
    "print(\"Most frequent word:\", most_common)"
   ]
  },
  {
   "cell_type": "code",
   "execution_count": 44,
   "id": "e8fd180d-c553-4880-b62c-f35c97ea197f",
   "metadata": {},
   "outputs": [
    {
     "name": "stdout",
     "output_type": "stream",
     "text": [
      "Unique words: {'hello', 'world', 'everone', 'everyone', 'hows', 'the'}\n"
     ]
    }
   ],
   "source": [
    "import re\n",
    "def unique_words(input_string):\n",
    "    #Remove puncuation and convert to lowecase\n",
    "    clean_string = re.sub(r'[^\\w\\s]', '', input_string).lower()\n",
    "    # Split the string into words and convert to a set for uniqueness\n",
    "    words = set(clean_string.split())\n",
    "    return words\n",
    "#example\n",
    "input_str = \"Hello everyone, hello world!, How's the everone?\"\n",
    "#Find the unique words\n",
    "unique_word_set = unique_words(input_str)\n",
    "print(\"Unique words:\", unique_word_set)"
   ]
  },
  {
   "cell_type": "code",
   "execution_count": 48,
   "id": "921a58d1-7feb-4407-a5f1-6bcf7664775e",
   "metadata": {},
   "outputs": [
    {
     "name": "stdout",
     "output_type": "stream",
     "text": [
      "'hello' has 2 syllables.\n",
      "'marry' has 2 syllables.\n",
      "'syllable' has 3 syllables.\n"
     ]
    }
   ],
   "source": [
    "import re\n",
    "def count_syllables(word):\n",
    "    #count vowel groups using regular expression\n",
    "    vowel_groups = re.findall(r'[aeiouy]+', word, re.IGNORECASE)\n",
    "    \n",
    "    return len(vowel_groups)\n",
    "#example words\n",
    "word1 = \"hello\"\n",
    "word2 = \"marry\"\n",
    "word3 = \"syllable\"\n",
    "#count syllables\n",
    "syllables1 = count_syllables(word1)\n",
    "syllables2 = count_syllables(word2)\n",
    "syllables3 = count_syllables(word3)\n",
    "#print\n",
    "print(f\"'{word1}' has {syllables1} syllables.\")\n",
    "print(f\"'{word2}' has {syllables2} syllables.\")\n",
    "print(f\"'{word3}' has {syllables3} syllables.\")\n",
    "\n",
    "                        "
   ]
  },
  {
   "cell_type": "code",
   "execution_count": 51,
   "id": "f5eac86b-8495-48ef-a59b-f5ad1d31f381",
   "metadata": {},
   "outputs": [
    {
     "name": "stdout",
     "output_type": "stream",
     "text": [
      "'Hello, world!' contains special characters: True\n",
      "'This is a test.' contains special characters: True\n",
      "'Special@Characters' contains special characters: True\n"
     ]
    }
   ],
   "source": [
    "import re\n",
    "\n",
    "def contains_special_characters(input_string):\n",
    "    # Define a regular expression pattern to match special characters\n",
    "    pattern = re.compile(r'[!@#$%^&*()_+{}\\[\\]:;<>,.?~\\\\/]')\n",
    "\n",
    "    # Use the search() method to find a match\n",
    "    match = pattern.search(input_string)\n",
    "\n",
    "    # Return True if a match is found, False otherwise\n",
    "    return bool(match)\n",
    "\n",
    "#example strings\n",
    "string1 = \"Hello, world!\"\n",
    "string2 = \"This is a test.\"\n",
    "string3 = \"Special@Characters\"\n",
    "#check if strings contain special characters\n",
    "result1 = contains_special_characters(string1)\n",
    "result2 = contains_special_characters(string2)\n",
    "result3 = contains_special_characters(string3)\n",
    "#Print \n",
    "print(f\"'{string1}' contains special characters:\", result1)\n",
    "print(f\"'{string2}' contains special characters:\", result2)\n",
    "print(f\"'{string3}' contains special characters:\", result3)"
   ]
  },
  {
   "cell_type": "code",
   "execution_count": 53,
   "id": "22e50c88-df0f-41ea-96dc-f2748d8a94ef",
   "metadata": {},
   "outputs": [
    {
     "name": "stdout",
     "output_type": "stream",
     "text": [
      "Original string: This is an example sentence to test the function.\n",
      "Modified string: This is an sentence to test the function.\n",
      "Removed word: example\n"
     ]
    }
   ],
   "source": [
    "def remove_nth_word(input_string, n):\n",
    "    # Split the input string into words\n",
    "    words = input_string.split()\n",
    "\n",
    "    #check if n is within a valid range\n",
    "    if n >= 1 and n <= len(words):\n",
    "        #remove the nth word by excluding it from the words list\n",
    "        removed_word = words.pop(n - 1)\n",
    "\n",
    "     \n",
    "        modified_string = ' '.join(words)\n",
    "\n",
    "        return modified_string, removed_word\n",
    "    else:\n",
    "        return None, None\n",
    "\n",
    "#example \n",
    "input_str = \"This is an example sentence to test the function.\"\n",
    "n_value = 4\n",
    "\n",
    "#Remove the nth word\n",
    "modified_str, removed_word = remove_nth_word(input_str, n_value)\n",
    "\n",
    "#rint \n",
    "print(\"Original string:\", input_str)\n",
    "if modified_str is not None:\n",
    "    print(\"Modified string:\", modified_str)\n",
    "    print(\"Removed word:\", removed_word)\n",
    "else:\n",
    "    print(\"Invalid n value.\")"
   ]
  },
  {
   "cell_type": "code",
   "execution_count": 83,
   "id": "4eca4cd6-f90b-47d5-81c9-4068d7ede75c",
   "metadata": {},
   "outputs": [
    {
     "ename": "NameError",
     "evalue": "name 'test_string' is not defined",
     "output_type": "error",
     "traceback": [
      "\u001b[0;31m---------------------------------------------------------------------------\u001b[0m",
      "\u001b[0;31mNameError\u001b[0m                                 Traceback (most recent call last)",
      "Cell \u001b[0;32mIn[83], line 6\u001b[0m\n\u001b[1;32m      2\u001b[0m N \u001b[38;5;241m=\u001b[39m \u001b[38;5;241m5\u001b[39m\n\u001b[1;32m      4\u001b[0m \u001b[38;5;66;03m# using join() + list() + insert()\u001b[39;00m\n\u001b[1;32m      5\u001b[0m \u001b[38;5;66;03m# Add substring at specific index\u001b[39;00m\n\u001b[0;32m----> 6\u001b[0m res \u001b[38;5;241m=\u001b[39m \u001b[38;5;28mlist\u001b[39m(\u001b[43mtest_string\u001b[49m)\n\u001b[1;32m      7\u001b[0m res\u001b[38;5;241m.\u001b[39minsert(N, add_string)\n\u001b[1;32m      8\u001b[0m res \u001b[38;5;241m=\u001b[39m \u001b[38;5;124m'\u001b[39m\u001b[38;5;124m'\u001b[39m\u001b[38;5;241m.\u001b[39mjoin(res)\n",
      "\u001b[0;31mNameError\u001b[0m: name 'test_string' is not defined"
     ]
    }
   ],
   "source": [
    " # initializing N\n",
    "N = 5\n",
    " \n",
    "# using join() + list() + insert()\n",
    "# Add substring at specific index\n",
    "res = list(test_string)\n",
    "res.insert(N, add_string)\n",
    "res = ''.join(res)\n",
    "     \n",
    "# print result\n",
    "print(\"The string after performing addition : \" + str(res))"
   ]
  },
  {
   "cell_type": "code",
   "execution_count": 55,
   "id": "501bc8bd-e7a7-4d6b-afb2-33f59b5b15b4",
   "metadata": {},
   "outputs": [
    {
     "name": "stdout",
     "output_type": "stream",
     "text": [
      "['Name', ' Age', ' Country']\n",
      "['John', ' 25', ' USA']\n",
      "['Alice', ' 30', ' Canada']\n",
      "['Bob', ' 22', ' UK']\n"
     ]
    }
   ],
   "source": [
    "def csv_string_to_list(csv_string):\n",
    "    #Split the CSV string into lines\n",
    "    lines = csv_string.split('\\n')\n",
    "\n",
    "    # Initialize an empty list to store the result\n",
    "    result = []\n",
    "\n",
    "    for line in lines:\n",
    "        #split each line into fields using comma as the delimiter\n",
    "        fields = line.split(',')\n",
    "\n",
    "        \n",
    "        result.append(fields)\n",
    "\n",
    "    return result\n",
    "\n",
    "#example\n",
    "csv_data = \"Name, Age, Country\\nJohn, 25, USA\\nAlice, 30, Canada\\nBob, 22, UK\"\n",
    "\n",
    "#conver CSV string\n",
    "list_of_lists = csv_string_to_list(csv_data)\n",
    "\n",
    "#print\n",
    "for row in list_of_lists:\n",
    "    print(row)"
   ]
  },
  {
   "cell_type": "code",
   "execution_count": 63,
   "id": "b2e0865f-446a-4eb1-a76c-3e71ebce8376",
   "metadata": {},
   "outputs": [],
   "source": [
    "# LIST BASE PRACTICE PROBLEM"
   ]
  },
  {
   "cell_type": "code",
   "execution_count": 2,
   "id": "45e8211d-760b-4374-8d2f-31b35250f2c3",
   "metadata": {},
   "outputs": [
    {
     "name": "stdout",
     "output_type": "stream",
     "text": [
      "[1, 2, 3, 4, 5, 6, 7, 8, 9, 10]\n"
     ]
    }
   ],
   "source": [
    "#Use a list comprehension to create a list of intigers from 1 to 10\n",
    "integer_list = [i for i in range(1, 11)]\n",
    "#print the list\n",
    "print(integer_list)"
   ]
  },
  {
   "cell_type": "code",
   "execution_count": 5,
   "id": "600b52a2-75c2-4459-9a59-cdea5ab055d8",
   "metadata": {},
   "outputs": [
    {
     "name": "stdout",
     "output_type": "stream",
     "text": [
      "length of the list: 5\n"
     ]
    }
   ],
   "source": [
    "def custom_len(input_list):\n",
    "    count = 0\n",
    "    for _ in input_list:\n",
    "        count += 1\n",
    "    return count\n",
    "# example list\n",
    "my_list = [10, 20, 30 ,40 ,50]\n",
    "#find the lenght of the list using custom_len\n",
    "length = custom_len(my_list)\n",
    "print(\"length of the list:\", length)"
   ]
  },
  {
   "cell_type": "code",
   "execution_count": 13,
   "id": "3c2197f9-1cc1-4f2f-a321-9276712dbb91",
   "metadata": {},
   "outputs": [
    {
     "name": "stdout",
     "output_type": "stream",
     "text": [
      "['Name', ' Age', ' Country']\n",
      "['John', ' 25', ' USA']\n",
      "['Alice', ' 30', ' Canada']\n",
      "['Bob', ' 22', ' UK']\n"
     ]
    }
   ],
   "source": [
    "s = \"Name, Age, Country\\nJohn, 25, USA\\nAlice, 30, Canada\\nBob, 22, UK\"\n",
    "lines = s.split(\"\\n\")\n",
    "\n",
    "lst = []\n",
    "for line in lines:\n",
    "  field = line.split(\",\")\n",
    "  lst.append(field)\n",
    "\n",
    "for row in lst:\n",
    "  print(row)\n",
    "    "
   ]
  },
  {
   "cell_type": "code",
   "execution_count": 17,
   "id": "91b90469-86d3-4ab3-b893-746fc02f7c19",
   "metadata": {},
   "outputs": [
    {
     "name": "stdout",
     "output_type": "stream",
     "text": [
      "Updated list: [10, 20, 30, 40, 50]\n"
     ]
    }
   ],
   "source": [
    "# example list\n",
    "my_list = [10,20,30,40]\n",
    "#element to append\n",
    "new_element = 50\n",
    "# Append the new element to the end of the list\n",
    "my_list.append(new_element)\n",
    "\n",
    "#print the update list\n",
    "print(\"Updated list:\", my_list)\n"
   ]
  },
  {
   "cell_type": "code",
   "execution_count": 20,
   "id": "08cc753c-50ef-461c-8ba2-5350928f6164",
   "metadata": {},
   "outputs": [
    {
     "name": "stdout",
     "output_type": "stream",
     "text": [
      "Updated list: [10, 20, 24, 30, 40, 50]\n"
     ]
    }
   ],
   "source": [
    "#list \n",
    "my_list = [10,20,30,40,50]\n",
    "# insert new element\n",
    "new_element = 24\n",
    "# index at which to insert the element\n",
    "index_to_insert = 2\n",
    "my_list.insert(index_to_insert, new_element)\n",
    "print(\"Updated list:\", my_list)"
   ]
  },
  {
   "cell_type": "code",
   "execution_count": 21,
   "id": "67fe94d0-87fb-4944-ad23-f6fe049eb0a0",
   "metadata": {},
   "outputs": [
    {
     "name": "stdout",
     "output_type": "stream",
     "text": [
      "Updated list: [10, 20, 24, 40, 50]\n"
     ]
    }
   ],
   "source": [
    "#list \n",
    "list = [10, 20, 30, 40, 50]\n",
    "# element to remove\n",
    "element_to_remove = 30\n",
    "# REmove the elemetnt\n",
    "my_list.remove(element_to_remove)\n",
    "print(\"Updated list:\", my_list)\n"
   ]
  },
  {
   "cell_type": "code",
   "execution_count": 27,
   "id": "12b7ffb5-8c43-48a4-88b9-7eead9e03d6e",
   "metadata": {},
   "outputs": [
    {
     "name": "stdout",
     "output_type": "stream",
     "text": [
      "Updated list: [10, 30, 40, 50]\n",
      "Removed element: 20\n"
     ]
    }
   ],
   "source": [
    "list = [10, 20, 30, 40, 50]\n",
    "# index to element to remove\n",
    "index_to_remove = 1\n",
    "# remove the element\n",
    "removed_element = list.pop(index_to_remove)\n",
    "# Print\n",
    "print(\"Updated list:\", list)\n",
    "print(\"Removed element:\", removed_element)"
   ]
  },
  {
   "cell_type": "code",
   "execution_count": 37,
   "id": "494a2e9c-a7a5-45db-aa03-f1c563abde7a",
   "metadata": {},
   "outputs": [
    {
     "name": "stdout",
     "output_type": "stream",
     "text": [
      "20 exists in the list.\n"
     ]
    }
   ],
   "source": [
    "# Example list\n",
    "my_list = [10, 20, 30, 40, 50]\n",
    "# Element to check\n",
    "element_to_check = 20\n",
    "# Check if the element exists in the list\n",
    "if element_to_check in my_list:\n",
    "    print(f\"{element_to_check} exists in the list.\")\n",
    "else:\n",
    "    print(f\"{element_to_check} does not exist in the list.\")"
   ]
  },
  {
   "cell_type": "code",
   "execution_count": 38,
   "id": "cabd474f-56b9-4732-8b86-b8f446e0b935",
   "metadata": {},
   "outputs": [
    {
     "name": "stdout",
     "output_type": "stream",
     "text": [
      "The index of 50 is 4\n"
     ]
    }
   ],
   "source": [
    "# Example list\n",
    "my_list = [10, 20, 30, 40, 50]\n",
    "element_to_find = 50\n",
    "# Find the index of the first occurrence of the element\n",
    "index = my_list.index(element_to_find)\n",
    "#print the index\n",
    "print(f\"The index of {element_to_find} is {index}\")\n"
   ]
  },
  {
   "cell_type": "code",
   "execution_count": 40,
   "id": "58e63829-001a-4c1c-aa89-824d300994e8",
   "metadata": {},
   "outputs": [
    {
     "name": "stdout",
     "output_type": "stream",
     "text": [
      "The element 30 occur 2 times in the list.\n"
     ]
    }
   ],
   "source": [
    "\n",
    "# Example list\n",
    "my_list = [10, 20, 30, 40, 50, 30 ]\n",
    "element_to_count = 30\n",
    "#Count the occurrence of the element\n",
    "count = my_list.count(element_to_count)\n",
    "#print\n",
    "print(f\"The element {element_to_count} occur {count} times in the list.\")"
   ]
  },
  {
   "cell_type": "code",
   "execution_count": 43,
   "id": "1e5579fe-867f-4f36-90a2-80856d622903",
   "metadata": {},
   "outputs": [
    {
     "name": "stdout",
     "output_type": "stream",
     "text": [
      "Reversed list: [50, 40, 30, 20, 10]\n"
     ]
    }
   ],
   "source": [
    "\n",
    "my_list = [10, 20, 30, 40, 50]\n",
    "# reverse the order of element\n",
    "my_list.reverse()\n",
    "\n",
    "#print the reversed list\n",
    "print(\"Reversed list:\", my_list)\n"
   ]
  },
  {
   "cell_type": "code",
   "execution_count": 44,
   "id": "3b7e9683-4f65-44c7-a090-f5f4b5d65793",
   "metadata": {},
   "outputs": [
    {
     "name": "stdout",
     "output_type": "stream",
     "text": [
      "sorted list in ascending order: [10, 20, 30, 40, 50]\n"
     ]
    }
   ],
   "source": [
    "# Example list\n",
    "my_list = [50, 40, 30, 20, 10]\n",
    "my_list.sort()\n",
    "print(\"sorted list in ascending order:\", my_list)"
   ]
  },
  {
   "cell_type": "code",
   "execution_count": 45,
   "id": "4962f2ef-bac3-4312-9e10-3e7ef0b2aa5c",
   "metadata": {},
   "outputs": [
    {
     "name": "stdout",
     "output_type": "stream",
     "text": [
      "Sorted list in descending order: [50, 40, 30, 20, 10]\n"
     ]
    }
   ],
   "source": [
    "# Example list\n",
    "my_list = [10, 20, 30, 40, 50]\n",
    "my_list.sort(reverse=True)\n",
    "print(\"Sorted list in descending order:\", my_list)"
   ]
  },
  {
   "cell_type": "code",
   "execution_count": 46,
   "id": "20c4ef8c-de18-41da-9c6b-41748b866ea8",
   "metadata": {},
   "outputs": [
    {
     "name": "stdout",
     "output_type": "stream",
     "text": [
      "List of even numbers: [2, 4, 6, 8, 10, 12, 14, 16, 18, 20]\n"
     ]
    }
   ],
   "source": [
    "#Uses a list comprehension to create a list of even numbers from 1 to 20\n",
    "even_number = [x for x in range(2, 21, 2)]\n",
    "#print \n",
    "print(\"List of even numbers:\", even_number)"
   ]
  },
  {
   "cell_type": "code",
   "execution_count": 47,
   "id": "5beccfdc-d990-4e6e-b3e1-699a5ff1dee3",
   "metadata": {},
   "outputs": [
    {
     "name": "stdout",
     "output_type": "stream",
     "text": [
      "List of odd numbers: [1, 3, 5, 7, 9, 11, 13, 15, 17, 19]\n"
     ]
    }
   ],
   "source": [
    "#use a list of odd numbers 1 to 20\n",
    "odd_numbers = [x for x in range(1, 21, 2)]\n",
    "print(\"List of odd numbers:\", odd_numbers)"
   ]
  },
  {
   "cell_type": "code",
   "execution_count": 48,
   "id": "aa181afb-2b64-455f-99c7-3e4e39b33d7a",
   "metadata": {},
   "outputs": [
    {
     "name": "stdout",
     "output_type": "stream",
     "text": [
      "sum of elements: 150\n"
     ]
    }
   ],
   "source": [
    "# Example list\n",
    "my_list = [10, 20, 30, 40, 50]\n",
    "#calculate the sum of all elements in the list\n",
    "total_sum = sum(my_list)\n",
    "print(\"sum of elements:\", total_sum)"
   ]
  },
  {
   "cell_type": "code",
   "execution_count": 49,
   "id": "fc03f29c-b60d-48a1-aed6-d65be31433f0",
   "metadata": {},
   "outputs": [
    {
     "name": "stdout",
     "output_type": "stream",
     "text": [
      "maximum value: 50\n"
     ]
    }
   ],
   "source": [
    "# Example list\n",
    "my_list = [10, 20, 30, 40, 50]\n",
    "# find maximum value\n",
    "max_value = max(my_list)\n",
    "#Print the maximum value\n",
    "print(\"maximum value:\", max_value)"
   ]
  },
  {
   "cell_type": "code",
   "execution_count": 50,
   "id": "c861277b-6756-4a46-aff4-94b630cf1c07",
   "metadata": {},
   "outputs": [
    {
     "name": "stdout",
     "output_type": "stream",
     "text": [
      "minimum value: 10\n"
     ]
    }
   ],
   "source": [
    "# Example list\n",
    "my_list = [10, 20, 30, 40, 50]\n",
    "# find minimum value\n",
    "min_value = min(my_list)\n",
    "print(\"minimum value:\", min_value)"
   ]
  },
  {
   "cell_type": "code",
   "execution_count": 51,
   "id": "451a3cea-c93d-4eb0-8389-6e1e5ed3ff11",
   "metadata": {},
   "outputs": [
    {
     "name": "stdout",
     "output_type": "stream",
     "text": [
      "List of squares: [1, 4, 9, 16, 25, 36, 49, 64, 81, 100]\n"
     ]
    }
   ],
   "source": [
    "# Use the comprehension to create a list of squares of numbers from 1 to 10\n",
    "squares = [x ** 2 for x in range(1, 11)]\n",
    "#print the list of square\n",
    "print(\"List of squares:\", squares)"
   ]
  },
  {
   "cell_type": "code",
   "execution_count": 52,
   "id": "bd2db0d5-8cdd-4747-a8a8-e10387a382b2",
   "metadata": {},
   "outputs": [
    {
     "name": "stdout",
     "output_type": "stream",
     "text": [
      "List of random integers: [54, 48, 59, 99, 73, 8, 29, 88, 66, 10]\n"
     ]
    }
   ],
   "source": [
    "import random\n",
    "# create a list of random intiger between 1 to 100\n",
    "random_integers = [random.randint(1, 100) for _ in range(10)]\n",
    "# print the random list\n",
    "print(\"List of random integers:\", random_integers)"
   ]
  },
  {
   "cell_type": "code",
   "execution_count": 78,
   "id": "69b9e33a-d95d-4cb5-a454-38f5e939570d",
   "metadata": {},
   "outputs": [
    {
     "name": "stdout",
     "output_type": "stream",
     "text": [
      "The original list is : [1, 3, 5, 6, 3, 5, 6, 1]\n",
      "The list after removing duplicates : [1, 3, 5, 6]\n"
     ]
    }
   ],
   "source": [
    "# initializing list\n",
    "test_list = [1, 3, 5, 6, 3, 5, 6, 1]\n",
    "print(\"The original list is : \"\n",
    "\t+ str(test_list))\n",
    "\n",
    "# using list comprehension to remove duplicated from list\n",
    "res = []\n",
    "[res.append(x) for x in test_list if x not in res]\n",
    "\n",
    "# printing list after removal\n",
    "print (\"The list after removing duplicates : \"\n",
    "\t+ str(res))\n"
   ]
  },
  {
   "cell_type": "code",
   "execution_count": 76,
   "id": "1413c15c-a451-4c8a-87b1-4634cb794a57",
   "metadata": {},
   "outputs": [
    {
     "name": "stdout",
     "output_type": "stream",
     "text": [
      "[10, 15, 20, 30]\n"
     ]
    }
   ],
   "source": [
    "\n",
    "li1 = [10, 15, 20, 25, 30, 35, 40]\n",
    "li2 = [25, 40, 35]\n",
    "\n",
    "temp3 = []\n",
    "for element in li1:\n",
    "\tif element not in li2:\n",
    "\t\ttemp3.append(element)\n",
    "\n",
    "print(temp3)\n"
   ]
  },
  {
   "cell_type": "code",
   "execution_count": 60,
   "id": "12cb9c57-9abf-415a-93d7-7b2ff49dce2c",
   "metadata": {},
   "outputs": [
    {
     "name": "stdout",
     "output_type": "stream",
     "text": [
      "Merged list: [10, 20, 30, 40, 50, 60]\n"
     ]
    }
   ],
   "source": [
    "# example list\n",
    "list1 = [10,20,30]\n",
    "list2 = [40,50,60]\n",
    "#merge lists using the + operator\n",
    "merged_list = list1 +list2\n",
    "print(\"Merged list:\", merged_list)"
   ]
  },
  {
   "cell_type": "code",
   "execution_count": 61,
   "id": "d978af7f-3da4-4b69-84c3-9ca5da914939",
   "metadata": {},
   "outputs": [
    {
     "name": "stdout",
     "output_type": "stream",
     "text": [
      "Multiplied list: [20, 40, 60, 80, 100]\n"
     ]
    }
   ],
   "source": [
    "# Example\n",
    "my_list = [10, 20, 30,40, 50]\n",
    "#multiply all the elements by 2\n",
    "multiplied_list = [x * 2 for x in my_list]\n",
    "print(\"Multiplied list:\", multiplied_list)"
   ]
  },
  {
   "cell_type": "code",
   "execution_count": 80,
   "id": "e8bc49ae-0a4f-44e9-a549-e5912144e17d",
   "metadata": {},
   "outputs": [
    {
     "name": "stdout",
     "output_type": "stream",
     "text": [
      "{5}\n",
      "no common elements\n"
     ]
    }
   ],
   "source": [
    "\n",
    "# function \n",
    "def common_member(a, b): \n",
    "\ta_set = set(a)\n",
    "\tb_set = set(b)\n",
    "\n",
    "\t# check length \n",
    "\tif len(a_set.intersection(b_set)) > 0:\n",
    "\t\treturn(a_set.intersection(b_set)) \n",
    "\telse:\n",
    "\t\treturn(\"no common elements\")\n",
    "\t\n",
    "\n",
    "a = [1, 2, 3, 4, 5]\n",
    "b = [5, 6, 7, 8, 9]\n",
    "print(common_member(a, b))\n",
    "\n",
    "a =[1, 2, 3, 4, 5]\n",
    "b =[6, 7, 8, 9]\n",
    "print(common_member(a, b))\n"
   ]
  },
  {
   "cell_type": "code",
   "execution_count": 62,
   "id": "e0179d9b-2b5e-49a3-8d3a-251ad61fe40b",
   "metadata": {},
   "outputs": [
    {
     "name": "stdout",
     "output_type": "stream",
     "text": [
      "List of integers: [10, 20, 30, 40, 50]\n"
     ]
    }
   ],
   "source": [
    "# Example list of strings\n",
    "string_list = [\"10\", \"20\", \"30\", \"40\", \"50\"]\n",
    "\n",
    "# Convert list of strings to list of integers using a list comprehension\n",
    "integer_list = [int(x) for x in string_list]\n",
    "\n",
    "# Print the list of integers\n",
    "print(\"List of integers:\", integer_list)"
   ]
  },
  {
   "cell_type": "code",
   "execution_count": 1,
   "id": "c32510fa-e3e3-4870-bc97-5330596ec2f5",
   "metadata": {},
   "outputs": [
    {
     "name": "stdout",
     "output_type": "stream",
     "text": [
      "list of strings: ['10', '20', '30', '40', '50']\n"
     ]
    }
   ],
   "source": [
    "# Example list\n",
    "integer_list  = [10, 20, 30, 40,50]\n",
    "#convert list of integers to list of strings\n",
    "string_list = [str(x) for x in integer_list]\n",
    "# print the list of strings\n",
    "print(\"list of strings:\", string_list)"
   ]
  },
  {
   "cell_type": "code",
   "execution_count": 5,
   "id": "2cca7f7c-6a65-41d6-b186-2893cf61f31c",
   "metadata": {},
   "outputs": [
    {
     "name": "stdout",
     "output_type": "stream",
     "text": [
      "Flattened list: [1, 2, 3, 4, 5, 6, 7, 8, 9]\n"
     ]
    }
   ],
   "source": [
    "# example\n",
    "nested_list = [[1,2,3,], [4,5], [6,7,8,9]]\n",
    "#funciton to flatten a nested list\n",
    "def flatten_list(nested):\n",
    "    flattened = []\n",
    "    for sublist in nested:\n",
    "        if isinstance(sublist, list):\n",
    "            flattened.extend(flatten_list(sublist))\n",
    "        else:\n",
    "            flattened.append(sublist)\n",
    "    return flattened\n",
    "#flatten nested list\n",
    "flattened_list = flatten_list(nested_list)\n",
    "print(\"Flattened list:\", flattened_list)"
   ]
  },
  {
   "cell_type": "code",
   "execution_count": 8,
   "id": "d99461c1-cb25-44e2-ba74-f2eef697fa0a",
   "metadata": {},
   "outputs": [
    {
     "name": "stdout",
     "output_type": "stream",
     "text": [
      "First 10 Fibonacci numbers: [0, 1]\n"
     ]
    }
   ],
   "source": [
    "# Function to generate the first n fibonacci numbers\n",
    "def generate_fibonacci(n):\n",
    "    fibonacci_list = [0, 1] \n",
    "    \n",
    "    for i in range(2, n):\n",
    "        next_fibonacci = fibonacci_list[i - 1] + fibonacci_list[i - 2]\n",
    "        fibonacci_list.append(next_fibonacci)\n",
    "    return fibonacci_list\n",
    "#generate the first 10 fibonacci number\n",
    "fibonacci_numbers = generate_fibonacci(2)\n",
    "# print the list of fibonacci numbers\n",
    "print(\"First 10 Fibonacci numbers:\", fibonacci_numbers)\n",
    "        "
   ]
  },
  {
   "cell_type": "code",
   "execution_count": 9,
   "id": "d1e45ff3-664d-4c21-b444-94c626f3359c",
   "metadata": {},
   "outputs": [
    {
     "name": "stdout",
     "output_type": "stream",
     "text": [
      "The list is sorted in ascending order.\n"
     ]
    }
   ],
   "source": [
    "# function to check if a list is sorted in ascending order\n",
    "def is_sorted_ascending(lst):\n",
    "    for i in range(1, len(lst)):\n",
    "        if lst[i] < lst [i - 1]:\n",
    "            return False\n",
    "    return True\n",
    "# examplse\n",
    "ascending_list = [1,2,3,4,5]\n",
    "if is_sorted_ascending(ascending_list):\n",
    "    print(\"The list is sorted in ascending order.\")\n",
    "else:\n",
    "    print(\"The list is not sorted in ascending order.\")"
   ]
  },
  {
   "cell_type": "code",
   "execution_count": 13,
   "id": "bdf73517-1b78-4898-bb29-06c3b06324d8",
   "metadata": {},
   "outputs": [
    {
     "name": "stdout",
     "output_type": "stream",
     "text": [
      "Rotated list: [3, 4, 5, 6, 1, 2]\n"
     ]
    }
   ],
   "source": [
    "# Function to rotate a list to the left by n positions\n",
    "def rotate_left(lst, n):\n",
    "    n = n % len(lst)  # Normalize n to handle cases where n is larger than the list length\n",
    "    # print(n)\n",
    "    rotated = lst[n:] + lst[:n]\n",
    "    return rotated\n",
    "\n",
    "# Example list\n",
    "my_list = [1, 2, 3, 4, 5, 6]\n",
    "\n",
    "# Number of positions to rotate by\n",
    "n = 2\n",
    "\n",
    "# Rotate the list to the left by n positions\n",
    "rotated_list = rotate_left(my_list, n)\n",
    "\n",
    "# Print the rotated list\n",
    "print(\"Rotated list:\", rotated_list)"
   ]
  },
  {
   "cell_type": "code",
   "execution_count": 15,
   "id": "ecfce67f-1e75-4235-b29d-9d4933bf02b4",
   "metadata": {},
   "outputs": [
    {
     "name": "stdout",
     "output_type": "stream",
     "text": [
      "Rotated list: [5, 6, 1, 2, 3, 4]\n"
     ]
    }
   ],
   "source": [
    "# function to rotate a list to righ by n positions\n",
    "def rotate_right(lst, n):\n",
    "    n = n % len(lst)\n",
    "    #print(N)\n",
    "    rotated = lst[-n:] + lst[:-n]\n",
    "    return rotated\n",
    "# examplse list\n",
    "my_list = [1,2,3,4,5,6]\n",
    "n = 2\n",
    "rotated_list = rotate_right(my_list, n)\n",
    "\n",
    "print(\"Rotated list:\", rotated_list)"
   ]
  },
  {
   "cell_type": "code",
   "execution_count": 19,
   "id": "f6524d4c-1b98-4633-8588-4c9c8a1449b2",
   "metadata": {},
   "outputs": [
    {
     "name": "stdout",
     "output_type": "stream",
     "text": [
      "5 25\n",
      "5 29\n",
      "List of prime numbers up to 50: [2, 3, 5, 7, 11, 13, 17, 19, 23, 29]\n"
     ]
    }
   ],
   "source": [
    "# Function to check if a number is prime\n",
    "def is_prime(num):\n",
    "    if num <= 1:\n",
    "        return False\n",
    "    if num <= 3:\n",
    "        return True\n",
    "    if num % 2 == 0 or num % 3 == 0:\n",
    "        return False\n",
    "    i = 5\n",
    "    while i * i <= num:\n",
    "      print(i,num)\n",
    "      if num % i == 0 or num % (i + 2) == 0:\n",
    "          return False\n",
    "      i += 6\n",
    "    return True\n",
    "\n",
    "# Create a list of prime numbers up to 50\n",
    "prime_numbers = [num for num in range(2,30) if is_prime(num)]\n",
    "\n",
    "# Print the list of prime numbers\n",
    "print(\"List of prime numbers up to 50:\", prime_numbers)"
   ]
  },
  {
   "cell_type": "code",
   "execution_count": 21,
   "id": "882499cc-18c4-4a46-8ec0-7cdf8a5692dc",
   "metadata": {},
   "outputs": [
    {
     "name": "stdout",
     "output_type": "stream",
     "text": [
      "List of prime numbers up to 50: [2, 3, 5, 7, 11, 13, 17, 19, 23, 29, 31, 37, 41, 43, 47]\n"
     ]
    }
   ],
   "source": [
    "# Create a list inot chunks of size n.\n",
    "def sieve_of_eratosthenes(limit):\n",
    "    primes = []\n",
    "    is_prime = [True] * (limit + 1)\n",
    "    is_prime[0] = is_prime[1] = False\n",
    "    \n",
    "    for num in range(2, int(limit ** 0.5) +1):\n",
    "        if is_prime[num]:\n",
    "            primes.append(num)\n",
    "            for multiple in range(num * num, limit + 1, num):\n",
    "                is_prime[multiple] = False\n",
    "    \n",
    "    for num in range(int(limit ** 0.5) + 1, limit + 1):\n",
    "        if is_prime[num]:\n",
    "            primes.append(num)\n",
    "    return primes\n",
    "prime_numbers = sieve_of_eratosthenes(50)\n",
    "print(\"List of prime numbers up to 50:\", prime_numbers)"
   ]
  },
  {
   "cell_type": "code",
   "execution_count": 26,
   "id": "c35f11d8-beba-4318-b75b-fa34638fcb9c",
   "metadata": {},
   "outputs": [
    {
     "name": "stdout",
     "output_type": "stream",
     "text": [
      "Second largest number: 25\n"
     ]
    }
   ],
   "source": [
    "# Examplse list\n",
    "my_list = [10,5,20,15,30,25]\n",
    "sorted_list = sorted(set(my_list))\n",
    "if len(sorted_list) >= 2:\n",
    "    second_largest = sorted_list[-2]\n",
    "    print(\"Second largest number:\", second_largest)\n",
    "else:\n",
    "    print(\"The list does not contain enough elements.\")"
   ]
  },
  {
   "cell_type": "code",
   "execution_count": 27,
   "id": "6c550442-b7af-4f8b-8170-43866ba1628f",
   "metadata": {},
   "outputs": [
    {
     "name": "stdout",
     "output_type": "stream",
     "text": [
      "Squared list: [4, 16, 36, 64, 100]\n"
     ]
    }
   ],
   "source": [
    "# Example\n",
    "my_list = [2,4,6,8,10]\n",
    "squared_list = [x ** 2 for x in my_list]\n",
    "print(\"Squared list:\", squared_list)"
   ]
  },
  {
   "cell_type": "code",
   "execution_count": 28,
   "id": "ad96331e-8ecc-4ae5-b845-f2f005fb6246",
   "metadata": {},
   "outputs": [
    {
     "name": "stdout",
     "output_type": "stream",
     "text": [
      "Converted dictonary: {'apple': 0, 'banana': 1, 'cherry': 2, 'dates': 3}\n"
     ]
    }
   ],
   "source": [
    "# example list\n",
    "my_list = ['apple', 'banana', 'cherry', 'dates']\n",
    "my_dict = {element: index for index, element in enumerate(my_list)}\n",
    "print(\"Converted dictonary:\", my_dict)"
   ]
  },
  {
   "cell_type": "code",
   "execution_count": 30,
   "id": "d0912f58-7f00-4a50-b04d-4048ec0adae4",
   "metadata": {},
   "outputs": [
    {
     "name": "stdout",
     "output_type": "stream",
     "text": [
      "shuffled list: [2, 5, 3, 7, 9, 6, 1, 8, 4]\n"
     ]
    }
   ],
   "source": [
    "import random \n",
    "my_list = [1,2,3,4,5,6,7,8,9]\n",
    "random.shuffle(my_list)\n",
    "print(\"shuffled list:\", my_list)"
   ]
  },
  {
   "cell_type": "code",
   "execution_count": 31,
   "id": "a3e0db43-a74a-4b6c-aa15-505eaab39054",
   "metadata": {},
   "outputs": [
    {
     "name": "stdout",
     "output_type": "stream",
     "text": [
      "List of the first 10 factorial numbersL [1, 1, 2, 6, 24, 120, 720, 5040, 40320, 362880]\n"
     ]
    }
   ],
   "source": [
    "# Function to calculate factoreial\n",
    "def factorial(n):\n",
    "    if n == 0 or n == 1:\n",
    "        return 1\n",
    "    else:\n",
    "        return n * factorial(n -1)\n",
    "factorial_numbers = [factorial(i) for i in range(10)]\n",
    "print(\"List of the first 10 factorial numbersL\", factorial_numbers)"
   ]
  },
  {
   "cell_type": "code",
   "execution_count": 39,
   "id": "09988a84-4029-4e90-b838-6dd623bdecfa",
   "metadata": {},
   "outputs": [
    {
     "name": "stdout",
     "output_type": "stream",
     "text": [
      "The lists do not have any common elements.\n"
     ]
    }
   ],
   "source": [
    "# function to check if two lists have at least one element in common\n",
    "def has_common_element(list1, list2):\n",
    "    for item in list1:\n",
    "        if item in list2:\n",
    "            return True\n",
    "        return False\n",
    "list1 = [1,2,3,4,5,]\n",
    "list2 = [4,5,6,7,8,]\n",
    "# check if has common element\n",
    "if has_common_element(list1, list2):\n",
    "    print(\"The lists have at least one common element.\")\n",
    "else:\n",
    "    print(\"The lists do not have any common elements.\")"
   ]
  },
  {
   "cell_type": "code",
   "execution_count": 40,
   "id": "fa36f0fd-1f0a-49ab-be6b-81cf69612c3a",
   "metadata": {},
   "outputs": [
    {
     "name": "stdout",
     "output_type": "stream",
     "text": [
      "Empty list: []\n"
     ]
    }
   ],
   "source": [
    "# Example list\n",
    "my_list = [1, 2, 3, 4, 5]\n",
    "\n",
    "# Clear all elements from the list\n",
    "my_list.clear()\n",
    "\n",
    "# Print the empty list\n",
    "print(\"Empty list:\", my_list)"
   ]
  },
  {
   "cell_type": "code",
   "execution_count": 41,
   "id": "188a7c17-85e1-4798-9b05-29fcb8ee285d",
   "metadata": {},
   "outputs": [
    {
     "name": "stdout",
     "output_type": "stream",
     "text": [
      "List after replacing negative numbers with 0: [10, 0, 20, 0, 30, 0]\n"
     ]
    }
   ],
   "source": [
    "# Example list\n",
    "my_list = [10, -5, 20, -15, 30, -25]\n",
    "\n",
    "# Step 1: Iterate through the list and replace negative numbers with 0\n",
    "for i in range(len(my_list)):\n",
    "    if my_list[i] < 0:\n",
    "        my_list[i] = 0\n",
    "\n",
    "# Print the list after replacing negative numbers with 0\n",
    "print(\"List after replacing negative numbers with 0:\", my_list)"
   ]
  },
  {
   "cell_type": "code",
   "execution_count": 42,
   "id": "fc6b6909-e46f-4d33-963e-275ebd8289b3",
   "metadata": {},
   "outputs": [
    {
     "name": "stdout",
     "output_type": "stream",
     "text": [
      "List of words: ['Hello,', 'this', 'is', 'a', 'sample', 'sentence.']\n"
     ]
    }
   ],
   "source": [
    "# Example string\n",
    "my_string = \"Hello, this is a sample sentence.\"\n",
    "\n",
    "# Convert the string into a list of words\n",
    "word_list = my_string.split()\n",
    "\n",
    "# Print the list of words\n",
    "print(\"List of words:\", word_list)"
   ]
  },
  {
   "cell_type": "code",
   "execution_count": 44,
   "id": "e12f21a5-42df-43b9-a158-0e49a6dcf2da",
   "metadata": {},
   "outputs": [
    {
     "name": "stdout",
     "output_type": "stream",
     "text": [
      "converted string: Hello, this is a sample sentence.\n"
     ]
    }
   ],
   "source": [
    "# example list of words\n",
    "word_list = [\"Hello,\", \"this\", \"is\", \"a\", \"sample\", \"sentence.\"]\n",
    "my_string = \" \".join(word_list)\n",
    "print(\"converted string:\", my_string)"
   ]
  },
  {
   "cell_type": "code",
   "execution_count": 45,
   "id": "8a2f6ff7-3def-4de8-87d3-597dddf6c876",
   "metadata": {},
   "outputs": [
    {
     "name": "stdout",
     "output_type": "stream",
     "text": [
      "list of the first 4 powers of 2: [1, 2, 4, 8]\n"
     ]
    }
   ],
   "source": [
    "# specific the value of n\n",
    "n = 4\n",
    "# create a list of the first n power of 2 using a loop\n",
    "power_list = [2 ** i for i in range(n)]\n",
    "print(\"list of the first\", n, \"powers of 2:\", power_list)"
   ]
  },
  {
   "cell_type": "code",
   "execution_count": 46,
   "id": "ef20e6c9-cda5-4a5d-a693-e47a8a61ac98",
   "metadata": {},
   "outputs": [
    {
     "name": "stdout",
     "output_type": "stream",
     "text": [
      "Longest string: elderberry\n"
     ]
    }
   ],
   "source": [
    "# Example\n",
    "string_list = [\"apple\", \"banana\", \"cherry\", \"date\", \"elderberry\"]\n",
    "# find the longest string in the list\n",
    "longest_string = \"\"\n",
    "for s in string_list:\n",
    "    if len(s) > len(longest_string):\n",
    "        longest_string = s\n",
    "print(\"Longest string:\", longest_string)"
   ]
  },
  {
   "cell_type": "code",
   "execution_count": 48,
   "id": "df3c1dcf-51ae-4c2a-8b06-4fb27fd1c39e",
   "metadata": {},
   "outputs": [
    {
     "name": "stdout",
     "output_type": "stream",
     "text": [
      "Shortest string: date\n"
     ]
    }
   ],
   "source": [
    "# Example list\n",
    "string_list = [\"apple\", \"banana\", \"cherry\", \"date\", \"elderberry\"]\n",
    "# find shortest string\n",
    "shortest_string = string_list [0]\n",
    "for s in string_list:\n",
    "    if len(s) < len(shortest_string):\n",
    "        shortest_string = s\n",
    "print(\"Shortest string:\", shortest_string)"
   ]
  },
  {
   "cell_type": "code",
   "execution_count": 52,
   "id": "9e3910d6-5add-4992-a004-2a85ed3665b5",
   "metadata": {},
   "outputs": [
    {
     "name": "stdout",
     "output_type": "stream",
     "text": [
      "List of the first 5 triangular numbers: [1, 3, 6, 10, 15]\n"
     ]
    }
   ],
   "source": [
    "# function to calculate triangular number\n",
    "def triangular_numbers(n):\n",
    "    return [i * (i + 1) // 2 for i in range(1, n + 1)]\n",
    "n = 5\n",
    "triangular_list = triangular_numbers(n)\n",
    "print(\"List of the first\", n, \"triangular numbers:\", triangular_list)"
   ]
  },
  {
   "cell_type": "code",
   "execution_count": 53,
   "id": "c82b2d59-8666-4b98-bdaa-90cb9567153f",
   "metadata": {},
   "outputs": [
    {
     "name": "stdout",
     "output_type": "stream",
     "text": [
      "Main list contains the subsequence.\n"
     ]
    }
   ],
   "source": [
    "#function to check if a list contains another list as a subsequence\n",
    "def is_subsequence(subsequence, main_list):\n",
    "    subseq_index = 0  # Index for the subsequence elements\n",
    "    for element in main_list:\n",
    "        if element == subsequence[subseq_index]:\n",
    "            subseq_index += 1\n",
    "            if subseq_index == len(subsequence):\n",
    "                return True\n",
    "    return False\n",
    "\n",
    "#example main list and subsequence\n",
    "main_list = [1, 2, 3, 4, 5, 6, 7, 8, 9, 10]\n",
    "subsequence = [3, 5, 8]\n",
    "\n",
    "#check if the main list contains the subsequence\n",
    "if is_subsequence(subsequence, main_list):\n",
    "    print(\"Main list contains the subsequence.\")\n",
    "else:\n",
    "    print(\"Main list does not contain the subsequence.\")"
   ]
  },
  {
   "cell_type": "code",
   "execution_count": 55,
   "id": "60cf93ad-c73e-45e3-804f-d5dba2710b74",
   "metadata": {},
   "outputs": [
    {
     "name": "stdout",
     "output_type": "stream",
     "text": [
      "List after swapping elements: [1, 3, 2, 4, 5]\n"
     ]
    }
   ],
   "source": [
    "# Example list\n",
    "my_list = [1,2,3,4,5]\n",
    "# indices of elements to swap\n",
    "index1 = 1\n",
    "index2 = 2\n",
    "# Swap the elements at the specified indices\n",
    "temp = my_list[index1]\n",
    "my_list[index1] = my_list[index2]\n",
    "my_list[index2] = temp\n",
    "# print\n",
    "print(\"List after swapping elements:\", my_list)"
   ]
  },
  {
   "cell_type": "code",
   "execution_count": 56,
   "id": "a77b6fe2-bf95-4990-9844-9369e653337e",
   "metadata": {},
   "outputs": [],
   "source": [
    "# Tuple Based prcatice problems :"
   ]
  },
  {
   "cell_type": "code",
   "execution_count": 57,
   "id": "5bfba483-751d-4399-94c0-9731001a78af",
   "metadata": {},
   "outputs": [
    {
     "name": "stdout",
     "output_type": "stream",
     "text": [
      "The third element of the tupe is: 30\n"
     ]
    }
   ],
   "source": [
    "# step 1 create a tuple\n",
    "my_tuple = (1,2,3,4,5)\n",
    "\n"
   ]
  },
  {
   "cell_type": "code",
   "execution_count": 58,
   "id": "e4621c28-a644-4efb-9fc3-027a443da070",
   "metadata": {},
   "outputs": [
    {
     "name": "stdout",
     "output_type": "stream",
     "text": [
      "The third element of the tupe is: 30\n"
     ]
    }
   ],
   "source": [
    "# step 1 create a tuple\n",
    "my_tuple = (10,20,30,40,50)\n",
    "third_element = my_tuple[2]\n",
    "print(\"The third element of the tupe is:\", third_element)\n"
   ]
  },
  {
   "cell_type": "code",
   "execution_count": 59,
   "id": "0b259360-262c-460f-ad7d-ee3a9e685a47",
   "metadata": {},
   "outputs": [
    {
     "name": "stdout",
     "output_type": "stream",
     "text": [
      "The lenght of the tuple is: 5\n"
     ]
    }
   ],
   "source": [
    "my_tuple = (10,20,30,40,50)\n",
    "# step  initiate a variable to count the elements\n",
    "count = 0\n",
    "for _ in my_tuple:\n",
    "    count += 1\n",
    "print(\"The lenght of the tuple is:\", count)"
   ]
  },
  {
   "cell_type": "code",
   "execution_count": 61,
   "id": "49dd236b-5dc9-4f78-bf41-514636427964",
   "metadata": {},
   "outputs": [
    {
     "name": "stdout",
     "output_type": "stream",
     "text": [
      "The element 20 appears 3 times in the tuple.\n"
     ]
    }
   ],
   "source": [
    "my_tuple = (10,20,30,20,40,50,20)\n",
    "element_to_count = 20\n",
    "count = 0\n",
    "for item in my_tuple:\n",
    "    if item == element_to_count:\n",
    "        count += 1\n",
    "print(f\"The element {element_to_count} appears {count} times in the tuple.\")"
   ]
  },
  {
   "cell_type": "code",
   "execution_count": 62,
   "id": "db84d80b-60e1-4328-b672-7383315dbb8a",
   "metadata": {},
   "outputs": [
    {
     "name": "stdout",
     "output_type": "stream",
     "text": [
      "The first occurrence of 20 is at index 1.\n"
     ]
    }
   ],
   "source": [
    "#example\n",
    "my_tuple = (10,20,30,40,50)\n",
    "element_to_find = 20\n",
    "index = -1\n",
    "for i, item in enumerate(my_tuple):\n",
    "    if item == element_to_find:\n",
    "        index = i\n",
    "        break\n",
    "if index != -1:\n",
    "    print(f\"The first occurrence of {element_to_find} is at index {index}.\")\n",
    "else:\n",
    "    print(f\"{element_to_find} is not found in the tuple.\")\n"
   ]
  },
  {
   "cell_type": "code",
   "execution_count": 63,
   "id": "73e58316-b269-4bb4-bc7a-024215d43318",
   "metadata": {},
   "outputs": [
    {
     "name": "stdout",
     "output_type": "stream",
     "text": [
      "30 exists in the tuple.\n"
     ]
    }
   ],
   "source": [
    "# Create a tuple\n",
    "my_tuple = (10,20,30,40,50)\n",
    "element_to_check = 30\n",
    "if element_to_check in my_tuple:\n",
    "    print(f\"{element_to_check} exists in the tuple.\")\n",
    "else:\n",
    "    print(f\"{element_to_check} does not exist in the tuple.\")"
   ]
  },
  {
   "cell_type": "code",
   "execution_count": 64,
   "id": "42754b54-d13d-42bf-bee6-b5d52d55fd2f",
   "metadata": {},
   "outputs": [
    {
     "name": "stdout",
     "output_type": "stream",
     "text": [
      "Tuple: (10, 20, 30, 40, 50)\n"
     ]
    }
   ],
   "source": [
    "# Create a tuple\n",
    "my_tuple = (10,20,30,40,50)\n",
    "# Convert the tuple to a list\n",
    "# Print\n",
    "print(\"Tuple:\", my_tuple)"
   ]
  },
  {
   "cell_type": "code",
   "execution_count": 65,
   "id": "94ff81ec-8e01-4ad2-968f-bcbdefbd714b",
   "metadata": {},
   "outputs": [
    {
     "name": "stdout",
     "output_type": "stream",
     "text": [
      "List: (1, 3, 2, 4, 5)\n",
      "Tuple: (1, 3, 2, 4, 5)\n"
     ]
    }
   ],
   "source": [
    "# Create a tuple\n",
    "my_tuple = (10,20,30,40,50)\n",
    "my_list = tuple(my_list)\n",
    "#print\n",
    "print(\"List:\", my_list)\n",
    "print(\"Tuple:\", my_list)"
   ]
  },
  {
   "cell_type": "code",
   "execution_count": 67,
   "id": "f9b01bfc-bc0e-403f-a235-504e9a0f1454",
   "metadata": {},
   "outputs": [
    {
     "name": "stdout",
     "output_type": "stream",
     "text": [
      "var1: 10\n",
      "var2: 20\n",
      "var3: 30\n"
     ]
    }
   ],
   "source": [
    "# Create a tuple\n",
    "my_tuple = (10,20,30)\n",
    "# unpack the element of the tuple \n",
    "var1, var2, var3 = my_tuple\n",
    "# Print\n",
    "print(\"var1:\", var1)\n",
    "print(\"var2:\", var2)\n",
    "print(\"var3:\", var3)"
   ]
  },
  {
   "cell_type": "code",
   "execution_count": 69,
   "id": "60df0ba3-da7a-448a-9d27-f7908ef694b1",
   "metadata": {},
   "outputs": [
    {
     "name": "stdout",
     "output_type": "stream",
     "text": [
      "Tuple of even numbers: (2, 4, 6, 8, 10)\n"
     ]
    }
   ],
   "source": [
    "# create a list of even numbers using a list\n",
    "even_numbers_list = [num for num in range(2, 11, 2)]\n",
    "# convert the list to a tuple\n",
    "even_numbers_tuple = tuple(even_numbers_list)\n",
    "# Prit\n",
    "print(\"Tuple of even numbers:\", even_numbers_tuple)"
   ]
  },
  {
   "cell_type": "code",
   "execution_count": 71,
   "id": "45a57383-a27f-451a-9a09-78445706583d",
   "metadata": {},
   "outputs": [
    {
     "name": "stdout",
     "output_type": "stream",
     "text": [
      "Tuple of odd numbers: (2, 4, 6, 8, 10)\n"
     ]
    }
   ],
   "source": [
    " # create a list of odd numbers using a list\n",
    "odd_numbers_list = [num for num in range(2, 11, 2)]\n",
    "# convert the list to a tuple\n",
    "odd_numbers_tuple = tuple(odd_numbers_list)\n",
    "# Prit\n",
    "print(\"Tuple of odd numbers:\", odd_numbers_tuple)"
   ]
  },
  {
   "cell_type": "code",
   "execution_count": 73,
   "id": "82f59673-360e-47f2-9b60-43c6f0c60c30",
   "metadata": {},
   "outputs": [
    {
     "name": "stdout",
     "output_type": "stream",
     "text": [
      "Concatenate tuple: (1, 2, 3, 4, 5, 6)\n"
     ]
    }
   ],
   "source": [
    "# create two tuple\n",
    "tuple1 = (1,2,3)\n",
    "tuple2 = (4,5,6)\n",
    "#concatenate the two tuples\n",
    "concatenated_tuple = tuple1 + tuple2\n",
    "#print\n",
    "print(\"Concatenate tuple:\", concatenated_tuple)"
   ]
  },
  {
   "cell_type": "code",
   "execution_count": 74,
   "id": "891a6995-e6f4-458f-bbb0-3ea1d20a91c3",
   "metadata": {},
   "outputs": [
    {
     "name": "stdout",
     "output_type": "stream",
     "text": [
      "Repeated tuple: (1, 2, 3, 1, 2, 3, 1, 2, 3)\n"
     ]
    }
   ],
   "source": [
    "# Create a Tuple\n",
    "original_tuple = (1,2,3)\n",
    "repeated_tuple = original_tuple * 3\n",
    "#print\n",
    "print(\"Repeated tuple:\", repeated_tuple)"
   ]
  },
  {
   "cell_type": "code",
   "execution_count": 75,
   "id": "268efab7-3e6f-49a0-ae30-ba54df4528f1",
   "metadata": {},
   "outputs": [
    {
     "name": "stdout",
     "output_type": "stream",
     "text": [
      "The empty_tuple is empty.\n",
      "The non_empty_tuple is not empty.\n"
     ]
    }
   ],
   "source": [
    "# Create an empty tuple and a non_empty tuple\n",
    "empty_tuple =()\n",
    "non_empty_tuple = (1,2,3)\n",
    "# Check if tuple are empty\n",
    "if not empty_tuple:\n",
    "    print(\"The empty_tuple is empty.\")\n",
    "else:\n",
    "    print(\"The empty_tuple is not empty.\")\n",
    "if not non_empty_tuple:\n",
    "    print(\"The non_empty_tuple is empty.\")\n",
    "else:\n",
    "    print(\"The non_empty_tuple is not empty.\")\n"
   ]
  },
  {
   "cell_type": "code",
   "execution_count": 76,
   "id": "17268be6-0f6d-4299-8921-18aff9989f63",
   "metadata": {},
   "outputs": [
    {
     "name": "stdout",
     "output_type": "stream",
     "text": [
      "Nested tuple: ((1, 2, 3), ('a', 'b', 'c'), (True, False))\n"
     ]
    }
   ],
   "source": [
    "# create a nested tuple\n",
    "nested_tuple = ((1,2,3),('a','b','c'), (True, False))\n",
    "print(\"Nested tuple:\", nested_tuple)"
   ]
  },
  {
   "cell_type": "code",
   "execution_count": 77,
   "id": "c28c6a3b-c8c5-4212-9985-7eb71e0e0d6e",
   "metadata": {},
   "outputs": [
    {
     "name": "stdout",
     "output_type": "stream",
     "text": [
      "First element of the nested tuple: (1, 2, 3)\n"
     ]
    }
   ],
   "source": [
    "# create a nested tuple\n",
    "nested_tuple = ((1,2,3),('a','b','c'), (True, False))\n",
    "# access the first element of the nested tuple\n",
    "first_element = nested_tuple[0]\n",
    "#print\n",
    "print(\"First element of the nested tuple:\", first_element)"
   ]
  },
  {
   "cell_type": "code",
   "execution_count": 78,
   "id": "76f91f00-d876-4c20-9769-4305196752d8",
   "metadata": {},
   "outputs": [
    {
     "name": "stdout",
     "output_type": "stream",
     "text": [
      "single element tuple: (42,)\n"
     ]
    }
   ],
   "source": [
    "# create a tuple with a single element\n",
    "single_element_tuple = (42,)\n",
    "print(\"single element tuple:\", single_element_tuple)"
   ]
  },
  {
   "cell_type": "code",
   "execution_count": 79,
   "id": "a73ef709-6b38-47fa-978f-f0b7587a7049",
   "metadata": {},
   "outputs": [
    {
     "name": "stdout",
     "output_type": "stream",
     "text": [
      "tuple1 == tuple2: False\n",
      "tuple1 != tuple2: True\n",
      "tuple1 < tuple2: True\n",
      "tuple1 <= tuple2: True\n",
      "tuple1 > tuple2: False\n",
      "tuple1 >= tuple2: False\n"
     ]
    }
   ],
   "source": [
    "#create two tuples\n",
    "tuple1 = (1,2,3)\n",
    "tuple2 = (1,2,4)\n",
    "# Compare the two tuple using comparision operators\n",
    "print(\"tuple1 == tuple2:\", tuple1 == tuple2)   # equality check\n",
    "print(\"tuple1 != tuple2:\", tuple1 != tuple2)   # Inequality check\n",
    "print(\"tuple1 < tuple2:\", tuple1 < tuple2)     # less than check\n",
    "print(\"tuple1 <= tuple2:\", tuple1 <= tuple2)    # less than equal to check\n",
    "print(\"tuple1 > tuple2:\", tuple1 > tuple2)       # Greater than check\n",
    "print(\"tuple1 >= tuple2:\", tuple1 >= tuple2)     # Greater than equal to check"
   ]
  },
  {
   "cell_type": "code",
   "execution_count": 82,
   "id": "1ff2a926-d97e-4d2e-885e-370d1117b485",
   "metadata": {},
   "outputs": [
    {
     "ename": "NameError",
     "evalue": "name 'my_tuple' is not defined",
     "output_type": "error",
     "traceback": [
      "\u001b[0;31m---------------------------------------------------------------------------\u001b[0m",
      "\u001b[0;31mNameError\u001b[0m                                 Traceback (most recent call last)",
      "Cell \u001b[0;32mIn[82], line 6\u001b[0m\n\u001b[1;32m      4\u001b[0m \u001b[38;5;28;01mdel\u001b[39;00m my_tuple\n\u001b[1;32m      5\u001b[0m \u001b[38;5;66;03m#print\u001b[39;00m\n\u001b[0;32m----> 6\u001b[0m \u001b[38;5;28mprint\u001b[39m(\u001b[43mmy_tuple\u001b[49m)\n",
      "\u001b[0;31mNameError\u001b[0m: name 'my_tuple' is not defined"
     ]
    }
   ],
   "source": [
    "# create a tuple\n",
    "my_tuple = (1,2,3,4,5)\n",
    "# Delete the tuple\n",
    "del my_tuple\n",
    "#print\n",
    "print(my_tuple)"
   ]
  },
  {
   "cell_type": "code",
   "execution_count": 83,
   "id": "1577752e-9737-4fd9-9a57-832714df097a",
   "metadata": {},
   "outputs": [
    {
     "name": "stdout",
     "output_type": "stream",
     "text": [
      "sliced tuple: (3, 4, 5, 6)\n"
     ]
    }
   ],
   "source": [
    "# Create a tuple\n",
    "my_tuple = (1,2,3,4,5,6,7,8,9,10)\n",
    "# slice the tuple to get a poriton of it\n",
    "sliced_tuple = my_tuple[2:6]\n",
    "print(\"sliced tuple:\", sliced_tuple)"
   ]
  },
  {
   "cell_type": "code",
   "execution_count": 84,
   "id": "a2556e3c-8fbf-44ec-94a0-030fc20b2dac",
   "metadata": {},
   "outputs": [
    {
     "name": "stdout",
     "output_type": "stream",
     "text": [
      "maximum value: 10\n"
     ]
    }
   ],
   "source": [
    " #Create a tuple\n",
    "my_tuple = (1,2,3,4,5,6,7,8,9,10)\n",
    " # Find maximum value\n",
    "max_value = max(my_tuple)\n",
    "#print\n",
    "print(\"maximum value:\", max_value)"
   ]
  },
  {
   "cell_type": "code",
   "execution_count": 85,
   "id": "e7347465-5af4-4e9f-8821-84ea67aa035d",
   "metadata": {},
   "outputs": [
    {
     "name": "stdout",
     "output_type": "stream",
     "text": [
      "minimum value: 1\n"
     ]
    }
   ],
   "source": [
    "#Create a tuple\n",
    "my_tuple = (1,2,3,4,5,6,7,8,9,10)\n",
    "# find minimum value\n",
    "min_value = min(my_tuple)\n",
    "#print\n",
    "print(\"minimum value:\", min_value)\n"
   ]
  },
  {
   "cell_type": "code",
   "execution_count": 87,
   "id": "45d86915-f238-44be-b2be-29c71e1e26f7",
   "metadata": {},
   "outputs": [
    {
     "name": "stdout",
     "output_type": "stream",
     "text": [
      "Tuple of characters: ('H', 'e', 'l', 'l', 'o', ',', ' ', 'e', 'v', 'e', 'r', 'y', 'o', 'n', 'e', '!')\n"
     ]
    }
   ],
   "source": [
    "# Create a string\n",
    "my_string = \"Hello, everyone!\"\n",
    "# convert the string to a tuple of characters\n",
    "tuple_of_characters = tuple(my_string)\n",
    "#print\n",
    "print(\"Tuple of characters:\", tuple_of_characters)"
   ]
  },
  {
   "cell_type": "code",
   "execution_count": 89,
   "id": "584b6ec1-71ae-4a37-9012-b731275e1c4a",
   "metadata": {},
   "outputs": [
    {
     "name": "stdout",
     "output_type": "stream",
     "text": [
      "String from tuple: H e l l o ,   e v e r y o n e !\n"
     ]
    }
   ],
   "source": [
    "# create tuple of characters\n",
    "tuple_of_characters: ('H','e', 'l', 'l', 'o', ',', ' ', 'e', 'v', 'e', 'r', 'y', 'o', 'n', 'e', '!')\n",
    "# convert into a string\n",
    "string_from_tuple = ' '.join(tuple_of_characters)\n",
    "#print\n",
    "print(\"String from tuple:\", string_from_tuple)"
   ]
  },
  {
   "cell_type": "code",
   "execution_count": 90,
   "id": "ea7463bc-9794-4f35-a0a7-92a9c7ec5b77",
   "metadata": {},
   "outputs": [
    {
     "name": "stdout",
     "output_type": "stream",
     "text": [
      "(1, 'deepak', 23.324, True)\n"
     ]
    }
   ],
   "source": [
    "# Creating a tuple with element of different data types\n",
    "mixed_tuple = (1, \"deepak\", 23.324, True)\n",
    "#printing\n",
    "print(mixed_tuple)"
   ]
  },
  {
   "cell_type": "code",
   "execution_count": 1,
   "id": "13458707-bde9-4560-8741-58091a6da915",
   "metadata": {},
   "outputs": [
    {
     "name": "stdout",
     "output_type": "stream",
     "text": [
      "tuple1 and tuple2 are identical: True\n",
      "tuple1 and tuple3 are identical: False\n"
     ]
    }
   ],
   "source": [
    "# create two tuples\n",
    "tuple1 = (1,2,3)\n",
    "tuple2 = (1,2,3)\n",
    "tuple3 = (4,5,6)\n",
    "# compare the tuples for identity using the equality operator\n",
    "are_identical1 = tuple1 == tuple2\n",
    "are_identical2 = tuple1 == tuple3\n",
    "# print\n",
    "print(\"tuple1 and tuple2 are identical:\", are_identical1)\n",
    "print(\"tuple1 and tuple3 are identical:\", are_identical2)"
   ]
  },
  {
   "cell_type": "code",
   "execution_count": 3,
   "id": "a4f60950-2aeb-4ca9-a63a-ffa672933757",
   "metadata": {},
   "outputs": [
    {
     "name": "stdout",
     "output_type": "stream",
     "text": [
      "Sorted tuple: (3, 4, 6, 54)\n"
     ]
    }
   ],
   "source": [
    "#create a tuple\n",
    "my_tuple = (3,4,54,6)\n",
    "sorted_tuple = tuple(sorted(my_tuple))\n",
    "#print\n",
    "print(\"Sorted tuple:\", sorted_tuple)"
   ]
  },
  {
   "cell_type": "code",
   "execution_count": 4,
   "id": "83878a42-f253-49b1-872b-0495b1e8bdbb",
   "metadata": {},
   "outputs": [
    {
     "name": "stdout",
     "output_type": "stream",
     "text": [
      "Tuple of strings: ('1', '2', '3', '4', '5')\n"
     ]
    }
   ],
   "source": [
    "# create a tuple of integers\n",
    "tuple_of_integers = (1,2,3,4,5,)\n",
    "# tuple of string\n",
    "tuple_of_strings = tuple(str(item) for item in tuple_of_integers)\n",
    "# print tuple of string\n",
    "print(\"Tuple of strings:\", tuple_of_strings)"
   ]
  },
  {
   "cell_type": "code",
   "execution_count": 5,
   "id": "adde6aff-6a01-4687-9b8c-dfd1ae1c9ca3",
   "metadata": {},
   "outputs": [
    {
     "name": "stdout",
     "output_type": "stream",
     "text": [
      "Tuple of integers: (1, 2, 3, 4, 5)\n"
     ]
    }
   ],
   "source": [
    "# create a tuple of strings\n",
    "tuple_of_strings = ('10', '20', '30', '40')\n",
    "#convert the tuple of strings\n",
    "tuple_of_strings = tuple(int(item) for item in tuple_of_strings)\n",
    "#print\n",
    "print(\"Tuple of integers:\", tuple_of_integers)"
   ]
  },
  {
   "cell_type": "code",
   "execution_count": 6,
   "id": "082bf891-4597-40a7-b24e-4b1ae9329b2b",
   "metadata": {},
   "outputs": [
    {
     "name": "stdout",
     "output_type": "stream",
     "text": [
      "merged tuple: (1, 2, 3, 4, 5, 6)\n"
     ]
    }
   ],
   "source": [
    "# create two tuples\n",
    "tuple1 = (1,2,3)\n",
    "tuple2 = (4,5,6)\n",
    "#merge the tuples\n",
    "merged_tuple = tuple1 + tuple2\n",
    "#print\n",
    "print(\"merged tuple:\", merged_tuple)"
   ]
  },
  {
   "cell_type": "code",
   "execution_count": 7,
   "id": "f8423b0e-32a7-45d8-8813-79a6d1bf54fb",
   "metadata": {},
   "outputs": [
    {
     "name": "stdout",
     "output_type": "stream",
     "text": [
      "Flattened tuple: (1, 2, 3, 4, 5, 6, 7, 8)\n"
     ]
    }
   ],
   "source": [
    "# Recursive function to flatten a nested tuple \n",
    "def flatten_tuple(nested_tuple):\n",
    "    flattened = []\n",
    "    for item in nested_tuple:\n",
    "        if isinstance(item, tuple):\n",
    "            flattened.extend(flatten_tuple(item))\n",
    "        else:\n",
    "            flattened.append(item)\n",
    "    return flattened\n",
    "# create a nested tuple\n",
    "nested_tuple = ((1,2,3), (4,5), (6, (7,8)))\n",
    "flattened_tuple = tuple(flatten_tuple(nested_tuple))\n",
    "#printing\n",
    "print(\"Flattened tuple:\", flattened_tuple)\n",
    "        "
   ]
  },
  {
   "cell_type": "code",
   "execution_count": 9,
   "id": "cce94e38-9f50-47a4-b8fa-96aa4a11fe74",
   "metadata": {},
   "outputs": [
    {
     "name": "stdout",
     "output_type": "stream",
     "text": [
      "Tuple of the first 5 prime numbers: (2, 3, 5, 7, 11)\n"
     ]
    }
   ],
   "source": [
    "# Function to check if a number is prime\n",
    "def is_prime(num):\n",
    "    if num <= 1:\n",
    "        return False\n",
    "    for i in range(2, int(num ** 0.5) + 1):\n",
    "        if num % i == 0:\n",
    "            return False\n",
    "    return True\n",
    "\n",
    "# Generate the first 5 prime numbers\n",
    "prime_numbers_list = [num for num in range(2, 100) if is_prime(num)][:5]\n",
    "\n",
    "# Convert the list to a tuple\n",
    "prime_numbers_tuple = tuple(prime_numbers_list)\n",
    "\n",
    "# Print the tuple of prime numbers\n",
    "print(\"Tuple of the first 5 prime numbers:\", prime_numbers_tuple)"
   ]
  },
  {
   "cell_type": "code",
   "execution_count": 10,
   "id": "4e09da7c-9cba-4406-8c31-f35593772557",
   "metadata": {},
   "outputs": [
    {
     "name": "stdout",
     "output_type": "stream",
     "text": [
      "palindrome_tuple is a palindrome True\n",
      "non_palindrome_tuple is a palindrome True\n"
     ]
    }
   ],
   "source": [
    "# Check tuple is a palindrome\n",
    "def is_palindrome(tup):\n",
    "    return tup == tup[::-1]\n",
    "#tuple for testing\n",
    "palindrome_tuple = (1,2,3,2,1)\n",
    "non_palindrome_tuple = (1,2,3,4,5)\n",
    "#check \n",
    "is_palindrome1 = is_palindrome(palindrome_tuple)\n",
    "is_palindrome2 = is_palindrome(palindrome_tuple)\n",
    "#print\n",
    "print(\"palindrome_tuple is a palindrome\", is_palindrome1)\n",
    "print(\"non_palindrome_tuple is a palindrome\", is_palindrome2)"
   ]
  },
  {
   "cell_type": "code",
   "execution_count": 12,
   "id": "eb10683c-485a-4831-a55d-ee1eb284ad7a",
   "metadata": {},
   "outputs": [
    {
     "name": "stdout",
     "output_type": "stream",
     "text": [
      "Tuple of squares: (1, 4, 9, 16, 25)\n"
     ]
    }
   ],
   "source": [
    " # tuple for squares using a list\n",
    "squares_tuple = tuple(x ** 2 for x in range(1,6))\n",
    "print(\"Tuple of squares:\", squares_tuple)"
   ]
  },
  {
   "cell_type": "code",
   "execution_count": 14,
   "id": "3f8660f7-80a0-41b2-a833-10910dee2932",
   "metadata": {},
   "outputs": [
    {
     "name": "stdout",
     "output_type": "stream",
     "text": [
      "Filtered tuple: (1, 3, 5, 7, 9)\n"
     ]
    }
   ],
   "source": [
    "# tuple\n",
    "original_tuple = (1,2,3,4,5,6,7,8,9,10)\n",
    "#filter\n",
    "filtered_tuple = tuple(num for num in original_tuple if num % 2!= 0)\n",
    "#print\n",
    "print(\"Filtered tuple:\", filtered_tuple)"
   ]
  },
  {
   "cell_type": "code",
   "execution_count": 16,
   "id": "307ce073-da2b-45a9-b217-3831fc8d01c2",
   "metadata": {},
   "outputs": [
    {
     "name": "stdout",
     "output_type": "stream",
     "text": [
      "Doubled tuple: (1, 4, 9, 16, 25)\n"
     ]
    }
   ],
   "source": [
    "# create a tuple\n",
    "original_tuple = (1,2,3,4,5)\n",
    "doubled_tuple = tuple(num ** 2 for num in original_tuple)\n",
    "print(\"Doubled tuple:\", doubled_tuple)"
   ]
  },
  {
   "cell_type": "code",
   "execution_count": 17,
   "id": "f975b735-3f55-4394-96a8-1d53ef65dbdc",
   "metadata": {},
   "outputs": [
    {
     "name": "stdout",
     "output_type": "stream",
     "text": [
      "Random tuple: (38, 24, 12, 78, 43, 25, 2, 22, 4, 76)\n"
     ]
    }
   ],
   "source": [
    "import random \n",
    "# tuple for random numbers\n",
    "random_tuple = tuple(random.randint(1, 100) for _ in range(10))\n",
    "print(\"Random tuple:\", random_tuple)"
   ]
  },
  {
   "cell_type": "code",
   "execution_count": 22,
   "id": "3c5ff0af-da66-4784-a11a-a19baa62c9f8",
   "metadata": {},
   "outputs": [
    {
     "name": "stdout",
     "output_type": "stream",
     "text": [
      "sorted_tuple is sorted: True\n",
      "unsorted_tuple is sorted: False\n"
     ]
    }
   ],
   "source": [
    "# check tuple is sored\n",
    "def is_sorted(tup):\n",
    "    for i in range(len(tup) -1):\n",
    "        if tup[i] > tup[i + 1]:\n",
    "            return False\n",
    "        return True\n",
    "# tuples for testing\n",
    "sorted_tuple = (1,2,3,4,5)\n",
    "unsorted_tuple = (5,3,1,4,2)\n",
    "#check \n",
    "is_sorted1 = is_sorted(sorted_tuple)\n",
    "is_sorted2 = is_sorted(unsorted_tuple)\n",
    "#print\n",
    "print(\"sorted_tuple is sorted:\", is_sorted1)\n",
    "print(\"unsorted_tuple is sorted:\", is_sorted2)"
   ]
  },
  {
   "cell_type": "code",
   "execution_count": 25,
   "id": "8c2ac1d1-3342-46ca-9bfd-fad922850920",
   "metadata": {},
   "outputs": [
    {
     "name": "stdout",
     "output_type": "stream",
     "text": [
      "(3, 4, 5, 1, 2)\n"
     ]
    }
   ],
   "source": [
    "# Rotate tupel to the left by n\n",
    "def rotate_tuple_left(tup, n):\n",
    "    n = n % len(tup)\n",
    "    rotated_tuple = tup[n:] + tup[:n]\n",
    "    return rotated_tuple\n",
    "my_tuple = (1,2,3,4,5)\n",
    "n_positions = 2\n",
    "result = rotate_tuple_left(my_tuple, n_positions)\n",
    "print(result)\n",
    "    "
   ]
  },
  {
   "cell_type": "code",
   "execution_count": 26,
   "id": "f3146875-bd73-4e0e-81c9-dbbd85a44508",
   "metadata": {},
   "outputs": [
    {
     "name": "stdout",
     "output_type": "stream",
     "text": [
      "(4, 5, 1, 2, 3)\n"
     ]
    }
   ],
   "source": [
    "# Rotate tuple to right\n",
    "def rotate_tuple_right(tup, n):\n",
    "    n = n % len(tup)\n",
    "    rotated_tuple = tup[-n:] + tup[:-n]\n",
    "    return rotated_tuple\n",
    "my_tuple = (1,2,3,4,5)\n",
    "n_positions = 2\n",
    "result = rotate_tuple_right(my_tuple, n_positions)\n",
    "print(result)"
   ]
  },
  {
   "cell_type": "code",
   "execution_count": 28,
   "id": "5c861153-7cba-4848-a68c-7eaa30ea7547",
   "metadata": {},
   "outputs": [
    {
     "name": "stdout",
     "output_type": "stream",
     "text": [
      "(0, 1, 1, 2, 3)\n"
     ]
    }
   ],
   "source": [
    "# create tuple for 5 fibonacci numbers\n",
    "def generate_fibonacci(n):\n",
    "    fibonacci = [0, 1]\n",
    "    while len(fibonacci) <n:\n",
    "        next_number = fibonacci[-1] + fibonacci[-2]\n",
    "        fibonacci.append(next_number)\n",
    "    return tuple(fibonacci)\n",
    "fibonacci_tuple = generate_fibonacci(5)\n",
    "print(fibonacci_tuple)"
   ]
  },
  {
   "cell_type": "code",
   "execution_count": 30,
   "id": "24f14699-a7da-4488-9d8d-590e07c733d4",
   "metadata": {},
   "outputs": [
    {
     "name": "stdin",
     "output_type": "stream",
     "text": [
      "Enter elements seprated by commas: d,e,e,,p,a,k,\n"
     ]
    },
    {
     "name": "stdout",
     "output_type": "stream",
     "text": [
      "user input tuple: ('d,e,e,,p,a,k,',)\n"
     ]
    }
   ],
   "source": [
    "# Tuple for user input\n",
    "input_str = input(\"Enter elements seprated by commas:\")\n",
    "input_list = input_str.split(' , ')\n",
    "user_tuple = tuple(input_list)\n",
    "print(\"user input tuple:\", user_tuple)\n"
   ]
  },
  {
   "cell_type": "code",
   "execution_count": 31,
   "id": "d80c052e-e98e-473b-a677-544062aac435",
   "metadata": {},
   "outputs": [
    {
     "name": "stdout",
     "output_type": "stream",
     "text": [
      "Swapped tuple: (1, 4, 3, 2, 5)\n"
     ]
    }
   ],
   "source": [
    "# Swap element into a tuple\n",
    "my_tuple = (1,2,3,4,5)\n",
    "index1 = 1\n",
    "index2 = 3\n",
    "swapped_tuple = tuple(\n",
    "    my_tuple[i] if i not in (index1, index2) else\n",
    "    my_tuple[index2] if i == index1 else\n",
    "    my_tuple[index1]\n",
    "    for i in range(len(my_tuple))\n",
    ")\n",
    "print(\"Swapped tuple:\", swapped_tuple)"
   ]
  },
  {
   "cell_type": "code",
   "execution_count": 32,
   "id": "a479010c-e30d-4c71-a368-dcbd2c65d679",
   "metadata": {},
   "outputs": [
    {
     "name": "stdout",
     "output_type": "stream",
     "text": [
      "Reversed tuple: (5, 4, 3, 2, 1)\n"
     ]
    }
   ],
   "source": [
    "# Reverse element of tuple\n",
    "my_tuple = (1,2,3,4,5)\n",
    "reversed_tuple = my_tuple[::-1]\n",
    "print(\"Reversed tuple:\", reversed_tuple)"
   ]
  },
  {
   "cell_type": "code",
   "execution_count": 33,
   "id": "be1aa960-21cb-4a1c-ba22-4fccb2abe59c",
   "metadata": {},
   "outputs": [
    {
     "name": "stdout",
     "output_type": "stream",
     "text": [
      "Tuple of the first 5 powers of 2: (1, 2, 4, 8, 16)\n"
     ]
    }
   ],
   "source": [
    "# tuple of first n power 2\n",
    "n = 5\n",
    "# create a tuple of the first n powers of 2 using a list comprehension\n",
    "powers_of_2_tuple = tuple(2 ** i for i in range(n))\n",
    "# print\n",
    "print(\"Tuple of the first\", n, \"powers of 2:\", powers_of_2_tuple)"
   ]
  },
  {
   "cell_type": "code",
   "execution_count": 34,
   "id": "3b26151c-de6d-42bf-99da-dd59719bda83",
   "metadata": {},
   "outputs": [
    {
     "name": "stdout",
     "output_type": "stream",
     "text": [
      "longest string: Rajender\n"
     ]
    }
   ],
   "source": [
    "# Longest string in a tuple\n",
    "string_tuple = (\"deepak\", \"Kumar\", \"Rajender\" , \"panwar\")\n",
    "#longest string\n",
    "longest_string = max(string_tuple, key=len)\n",
    "print(\"longest string:\", longest_string)"
   ]
  },
  {
   "cell_type": "code",
   "execution_count": 35,
   "id": "206874af-bdcb-4cb7-8876-5fe6ff7e88fe",
   "metadata": {},
   "outputs": [
    {
     "name": "stdout",
     "output_type": "stream",
     "text": [
      "Shortest string: Kumar\n"
     ]
    }
   ],
   "source": [
    "# shortest string in tuple\n",
    "string_tuple = (\"deepak\", \"Kumar\", \"Rajender\" , \"panwar\")\n",
    "shortest_string = min(string_tuple, key=len)\n",
    "print(\"Shortest string:\", shortest_string)\n"
   ]
  },
  {
   "cell_type": "code",
   "execution_count": 38,
   "id": "bcc86add-d719-4691-b93e-6af6cfb75b45",
   "metadata": {},
   "outputs": [
    {
     "name": "stdout",
     "output_type": "stream",
     "text": [
      "Tuple of the first 5 triangular numbers: (1, 3, 6, 10, 15)\n"
     ]
    }
   ],
   "source": [
    "# Tuple for first n triangular numbers\n",
    "n = 5\n",
    "# Tuple of first n triangular numbers using a list\n",
    "triangular_numbers_tuple = tuple((i * (i+1)) // 2 for i in range(1, n +1))\n",
    "#print\n",
    "print(\"Tuple of the first\",n, \"triangular numbers:\", triangular_numbers_tuple)                                 "
   ]
  },
  {
   "cell_type": "code",
   "execution_count": 41,
   "id": "8e7bced4-0408-46d5-9424-db3aff397869",
   "metadata": {},
   "outputs": [
    {
     "name": "stdout",
     "output_type": "stream",
     "text": [
      "Main tuple contains subsequence tuple: True\n"
     ]
    }
   ],
   "source": [
    "# tuple contains another tuple\n",
    "def contains_subsequence(main_tuple, sub_tuple):\n",
    "    sub_length = len(sub_tuple)\n",
    "    for i in range(len(main_tuple) - sub_length + 1):\n",
    "        if main_tuple[i:i+sub_length] == sub_tuple:\n",
    "            return True\n",
    "    return False\n",
    "main_tuple = (1,2,3,4,5,6,7,8,9)\n",
    "#subsequence tuple\n",
    "sub_tuple = (3,4,5)\n",
    "# If the main tuple contains the subsequence tuple\n",
    "contains_subseq = contains_subsequence(main_tuple, sub_tuple)\n",
    "#print\n",
    "print(\"Main tuple contains subsequence tuple:\", contains_subseq)"
   ]
  },
  {
   "cell_type": "code",
   "execution_count": 42,
   "id": "cb926530-050f-4e05-ad1a-b7dc9245d945",
   "metadata": {},
   "outputs": [
    {
     "name": "stdout",
     "output_type": "stream",
     "text": [
      "Tuple of alternating 1s and 0s: (0, 1, 0, 1, 0, 1, 0, 1, 0, 1)\n"
     ]
    }
   ],
   "source": [
    "# Tuple for alternating 1s and 0s of lenth n\n",
    "n = 10\n",
    "# create a tuple of alternating 1s and 0s using a list comprehension\n",
    "alternating_tuple = tuple(i % 2 for i in range(n))\n",
    "#print\n",
    "print(\"Tuple of alternating 1s and 0s:\", alternating_tuple)"
   ]
  },
  {
   "cell_type": "code",
   "execution_count": 43,
   "id": "f1a0f3a4-e790-4e95-b50b-912a58962772",
   "metadata": {},
   "outputs": [],
   "source": [
    "# SET BASED PROBLEMS:"
   ]
  },
  {
   "cell_type": "code",
   "execution_count": 2,
   "id": "35acce4c-3e2b-4b59-b323-b0000cec2e69",
   "metadata": {},
   "outputs": [
    {
     "name": "stdout",
     "output_type": "stream",
     "text": [
      "{1, 2, 3, 4, 5}\n"
     ]
    }
   ],
   "source": [
    "# set with integers 1 to 5\n",
    "my_set = set()\n",
    "# add integers from 1 to 5\n",
    "my_set.add(1)\n",
    "my_set.add(2)\n",
    "my_set.add(3)\n",
    "my_set.add(4)\n",
    "my_set.add(5)\n",
    "#print\n",
    "print(my_set)"
   ]
  },
  {
   "cell_type": "code",
   "execution_count": 4,
   "id": "d39f01c3-ebfa-44ed-844e-373b6bad65b0",
   "metadata": {},
   "outputs": [
    {
     "name": "stdout",
     "output_type": "stream",
     "text": [
      "original set: {1, 2, 3, 4, 5}\n",
      "set after adding element: {1, 2, 3, 4, 5, (6, 7)}\n"
     ]
    }
   ],
   "source": [
    "# add element to set\n",
    "my_set = {1,2,3,4,5}\n",
    "print(\"original set:\", my_set)\n",
    "# add an element to the set\n",
    "element_to_add = 6,7\n",
    "my_set.add(element_to_add)\n",
    "print(\"set after adding element:\", my_set)\n"
   ]
  },
  {
   "cell_type": "code",
   "execution_count": 6,
   "id": "89da2b99-038e-4cd0-9aa9-6918d56b25e6",
   "metadata": {},
   "outputs": [
    {
     "name": "stdout",
     "output_type": "stream",
     "text": [
      "original set: {1, 2, 3, 4, 5, 6}\n",
      "set after removing 3 : {1, 2, 4, 5, 6}\n"
     ]
    }
   ],
   "source": [
    "# Remove element \n",
    "my_set = {1,2,3,4,5,6}\n",
    "\n",
    "print(\"original set:\", my_set)\n",
    "element_to_remove = 3\n",
    "my_set.remove(element_to_remove)\n",
    "print(\"set after removing\", element_to_remove, \":\", my_set)"
   ]
  },
  {
   "cell_type": "code",
   "execution_count": 8,
   "id": "3d988e39-5868-4bfa-9db0-496e953c0186",
   "metadata": {},
   "outputs": [
    {
     "name": "stdin",
     "output_type": "stream",
     "text": [
      "enter the element to check: 30\n"
     ]
    },
    {
     "name": "stdout",
     "output_type": "stream",
     "text": [
      "30 does not exist in the set.\n"
     ]
    }
   ],
   "source": [
    "# element exist in set\n",
    "my_set = {1,2,3,4,5,}\n",
    "element_to_check = int(input(\"enter the element to check:\"))\n",
    "if element_to_check in my_set:\n",
    "    print(f\"{element_to_check} exists in the set.\")\n",
    "else:\n",
    "    print(f\"{element_to_check} does not exist in the set.\")"
   ]
  },
  {
   "cell_type": "code",
   "execution_count": 9,
   "id": "7fcdd45e-62dd-469c-bb2f-fcf135a61b41",
   "metadata": {},
   "outputs": [
    {
     "name": "stdout",
     "output_type": "stream",
     "text": [
      "Length of the set: 5\n"
     ]
    }
   ],
   "source": [
    "# lenght of set without usinf the len() function\n",
    "my_set = {1,2,3,4,5}\n",
    "#count'\n",
    "count = 0\n",
    "for _ in my_set:\n",
    "    count += 1\n",
    "print(\"Length of the set:\", count)"
   ]
  },
  {
   "cell_type": "code",
   "execution_count": 10,
   "id": "c9d875c0-7de0-47b0-bec9-298b65c873e6",
   "metadata": {},
   "outputs": [
    {
     "name": "stdout",
     "output_type": "stream",
     "text": [
      "original set: {1, 2, 3, 4, 5, 6}\n",
      "set after clearing: set()\n"
     ]
    }
   ],
   "source": [
    "# Clear all element from set\n",
    "my_set = {1,2,3,4,5,6}\n",
    "print(\"original set:\", my_set)\n",
    "my_set.clear()\n",
    "print(\"set after clearing:\", my_set)"
   ]
  },
  {
   "cell_type": "code",
   "execution_count": 11,
   "id": "28456800-9f86-4056-af73-9718514fd3fe",
   "metadata": {},
   "outputs": [
    {
     "name": "stdout",
     "output_type": "stream",
     "text": [
      "{2, 4, 6, 8, 10}\n"
     ]
    }
   ],
   "source": [
    "#set of even number 1 tp 10\n",
    "even_number_set = set()\n",
    "# from 1 to 10\n",
    "for num in range (1,11):\n",
    "    if num % 2 == 0:\n",
    "        even_number_set.add(num)\n",
    "#print\n",
    "print(even_number_set)\n",
    "    "
   ]
  },
  {
   "cell_type": "code",
   "execution_count": 13,
   "id": "7f7781cd-39ad-428e-979e-b191c108b513",
   "metadata": {},
   "outputs": [
    {
     "name": "stdout",
     "output_type": "stream",
     "text": [
      "{1, 3, 5, 7, 9}\n"
     ]
    }
   ],
   "source": [
    "# odd number set\n",
    "odd_numbers_set = set()\n",
    "for num in range(1, 11):\n",
    "    if num % 2 != 0:\n",
    "        odd_numbers_set.add(num)\n",
    "#print\n",
    "print(odd_numbers_set)"
   ]
  },
  {
   "cell_type": "code",
   "execution_count": 14,
   "id": "5cdfdb65-d033-441a-b614-860fbeb3d551",
   "metadata": {},
   "outputs": [
    {
     "name": "stdout",
     "output_type": "stream",
     "text": [
      "set 1: {1, 2, 3, 4, 5}\n",
      "set 2: {8, 4, 6, 7}\n",
      "Union of set 1 and set 2: {1, 2, 3, 4, 5, 6, 7, 8}\n"
     ]
    }
   ],
   "source": [
    "# union of two sets\n",
    "set1 = {1,2,3,4,5}\n",
    "set2 = {6,7,4,7,8}\n",
    "# union of the two sets using the 'union()' \n",
    "union_result = set1.union(set2)\n",
    "print(\"set 1:\", set1)\n",
    "print(\"set 2:\", set2)\n",
    "print(\"Union of set 1 and set 2:\", union_result)\n"
   ]
  },
  {
   "cell_type": "code",
   "execution_count": 16,
   "id": "736e5455-8ecc-426b-82de-af61f8a9629f",
   "metadata": {},
   "outputs": [
    {
     "name": "stdout",
     "output_type": "stream",
     "text": [
      "Set 1: {1, 2, 3, 4, 5}\n",
      "Set 2: {3, 4, 5, 6, 7}\n",
      "Intersection: {3, 4, 5}\n"
     ]
    }
   ],
   "source": [
    "# intersection of two sets\n",
    "set1 = {1, 2, 3, 4, 5}\n",
    "set2 = {3, 4, 5, 6, 7}\n",
    "# intersection \n",
    "intersection_result = set1.intersection(set2)\n",
    "print(\"Set 1:\", set1)\n",
    "print(\"Set 2:\", set2)\n",
    "print(\"Intersection:\", intersection_result)"
   ]
  },
  {
   "cell_type": "code",
   "execution_count": 17,
   "id": "65f75ce0-e44e-4e5c-bd65-a5a24ee759ca",
   "metadata": {},
   "outputs": [
    {
     "name": "stdout",
     "output_type": "stream",
     "text": [
      "Set 1: {1, 2, 3, 4, 5}\n",
      "Set 2: {3, 4, 5, 6, 7}\n",
      "Difference: {1, 2}\n"
     ]
    }
   ],
   "source": [
    "# Diffrence between 2 sets\n",
    "set1 = {1, 2, 3, 4, 5}\n",
    "set2 = {3, 4, 5, 6, 7}\n",
    "# diffrence\n",
    "difference_set = set1.difference(set2)\n",
    "print(\"Set 1:\", set1)\n",
    "print(\"Set 2:\", set2)\n",
    "print(\"Difference:\", difference_set)"
   ]
  },
  {
   "cell_type": "code",
   "execution_count": 18,
   "id": "f90b0f30-b94a-445f-86b2-fbcdacf72288",
   "metadata": {},
   "outputs": [
    {
     "name": "stdout",
     "output_type": "stream",
     "text": [
      "is set1 a subset of set1: True\n"
     ]
    }
   ],
   "source": [
    "# Set is a subset of another set\n",
    "set1 = {1,2,3}\n",
    "set2 = {1,2,3,4,5}\n",
    "# issubset\n",
    "is_subset = set1.issubset(set2)\n",
    "print(\"is set1 a subset of set1:\", is_subset)"
   ]
  },
  {
   "cell_type": "code",
   "execution_count": 19,
   "id": "afad1f23-a911-4e47-8806-541557bf4ed3",
   "metadata": {},
   "outputs": [
    {
     "name": "stdout",
     "output_type": "stream",
     "text": [
      "set1 is a superset of set2\n"
     ]
    }
   ],
   "source": [
    "# set is a superset of another set\n",
    "set1= {1,2,3,4,5,6}\n",
    "set2= {3,4}\n",
    "is_superset = set1.issuperset(set2)\n",
    "if is_superset:\n",
    "    print(\"set1 is a superset of set2\")\n",
    "else:\n",
    "    print(\"set1 is not a superset of set2\")"
   ]
  },
  {
   "cell_type": "code",
   "execution_count": 20,
   "id": "f4c37bfa-4756-4acb-907e-cd38c51dd3ba",
   "metadata": {},
   "outputs": [
    {
     "name": "stdout",
     "output_type": "stream",
     "text": [
      "original list: [2, 4, 1, 4, 3, 2, 5]\n",
      "set from list: {1, 2, 3, 4, 5}\n"
     ]
    }
   ],
   "source": [
    "#set from a list\n",
    "my_list = [2,4,1,4,3,2,5]\n",
    "# use the set constructor\n",
    "my_set = set(my_list)\n",
    "\n",
    "print(\"original list:\", my_list)\n",
    "print(\"set from list:\", my_set)"
   ]
  },
  {
   "cell_type": "code",
   "execution_count": 21,
   "id": "0008560f-84e9-42de-9087-805cc1afa58d",
   "metadata": {},
   "outputs": [
    {
     "name": "stdout",
     "output_type": "stream",
     "text": [
      "Original set: {1, 2, 3, 4, 5, 6, 8}\n",
      "converted list: [1, 2, 3, 4, 5, 6, 8]\n"
     ]
    }
   ],
   "source": [
    "# Set to a list\n",
    "my_set = {1,2,4,3,5,6,8,6}\n",
    "my_list = list(my_set)\n",
    "print(\"Original set:\", my_set)\n",
    "print(\"converted list:\", my_list)"
   ]
  },
  {
   "cell_type": "code",
   "execution_count": 26,
   "id": "e12fd127-6b54-4c1e-9b68-ba17a146fe4d",
   "metadata": {},
   "outputs": [
    {
     "name": "stdout",
     "output_type": "stream",
     "text": [
      "Original set: {1, 2, 3, 4, 5}\n",
      "Updated set after removing 2 : {1, 3, 4, 5}\n"
     ]
    }
   ],
   "source": [
    "import random  # Import the random module\n",
    "\n",
    "# Create a set with some elements\n",
    "my_set = {1, 2, 3, 4, 5}\n",
    "\n",
    "# Display the original set\n",
    "print(\"Original set:\", my_set)\n",
    "\n",
    "# Choose a random element from the set using the random.choice() function\n",
    "random_element = random.choice(list(my_set))\n",
    "\n",
    "# Remove the chosen random element from the set using the remove() method\n",
    "my_set.remove(random_element)\n",
    "\n",
    "# Display the updated set after removing the random element\n",
    "print(\"Updated set after removing\", random_element, \":\", my_set)"
   ]
  },
  {
   "cell_type": "code",
   "execution_count": 27,
   "id": "7fcf4600-a373-4e72-9b90-f371616afd58",
   "metadata": {},
   "outputs": [
    {
     "name": "stdout",
     "output_type": "stream",
     "text": [
      "Original set: {1, 2, 3, 4, 5}\n",
      "popped element: 1\n",
      "set after popping: {2, 3, 4, 5}\n"
     ]
    }
   ],
   "source": [
    "# pop element from set\n",
    "my_set = {1,2,3,4,5}\n",
    "print(\"Original set:\", my_set)\n",
    "#pop element\n",
    "popped_element = my_set.pop()\n",
    "print(\"popped element:\", popped_element)\n",
    "print(\"set after popping:\", my_set)"
   ]
  },
  {
   "cell_type": "code",
   "execution_count": 34,
   "id": "fe739910-ab0b-4c60-9625-76f95cd0cbb8",
   "metadata": {},
   "outputs": [
    {
     "name": "stdout",
     "output_type": "stream",
     "text": [
      "The two sets have no elements in common.\n"
     ]
    }
   ],
   "source": [
    "# Step 1: Define two sets\n",
    "set1 = {1, 2, 3, 4}\n",
    "set2 = {5, 6, 7, 8}\n",
    "\n",
    "# Step 2: Check if the intersection of the two sets is empty\n",
    "# The intersection is the set of elements that are common to both sets\n",
    "common_elements = set1.intersection(set2)\n",
    "\n",
    "# Step 3: Check if the common_elements set is empty\n",
    "if not common_elements:\n",
    "    print(\"The two sets have no elements in common.\")\n",
    "else:\n",
    "    print(\"The two sets have common elements:\", common_elements)\n"
   ]
  },
  {
   "cell_type": "code",
   "execution_count": 35,
   "id": "906f4e40-9963-41b7-82ec-1fbf1d776c28",
   "metadata": {},
   "outputs": [
    {
     "name": "stdout",
     "output_type": "stream",
     "text": [
      "symmetric difference: {1, 2, 3, 6, 7, 8}\n"
     ]
    }
   ],
   "source": [
    "# Symetric diffrence between two sets.\n",
    "set1 = {1,2,3,4,5}\n",
    "set2 = {4,5,6,7,8}\n",
    "#symmetric difference\n",
    "symmetric_difference = set1 ^ set2\n",
    "#print\n",
    "print(\"symmetric difference:\", symmetric_difference)"
   ]
  },
  {
   "cell_type": "code",
   "execution_count": 36,
   "id": "5f34c6b4-100b-4365-bdbe-28049286398a",
   "metadata": {},
   "outputs": [
    {
     "name": "stdout",
     "output_type": "stream",
     "text": [
      "Set 1: {1, 2, 3}\n",
      "set 2: {3, 4, 5}\n",
      "updated set 1: {1, 2, 3, 4, 5}\n"
     ]
    }
   ],
   "source": [
    "# set with elements from another set\n",
    "set1 = {1,2,3}\n",
    "print(\"Set 1:\", set1)\n",
    "set2 = {3,4,5}\n",
    "print(\"set 2:\", set2)\n",
    "#update set1 \n",
    "set1.update(set2)\n",
    "print(\"updated set 1:\", set1)"
   ]
  },
  {
   "cell_type": "code",
   "execution_count": 37,
   "id": "10140b68-c2ff-4fd2-9b06-b846ec0048d3",
   "metadata": {},
   "outputs": [
    {
     "name": "stdout",
     "output_type": "stream",
     "text": [
      "Set of the first 5 prime numbers: {2, 3, 5, 7, 11}\n"
     ]
    }
   ],
   "source": [
    "# Function to check if a number is prime\n",
    "def is_prime(num):\n",
    "    if num <= 1:\n",
    "        return False\n",
    "    for i in range(2, int(num ** 0.5) + 1):\n",
    "        if num % i == 0:\n",
    "            return False\n",
    "    return True\n",
    "\n",
    "# Create an empty set to store the prime numbers\n",
    "prime_set = set()\n",
    "\n",
    "# Initialize the number to start checking for primes\n",
    "num = 2\n",
    "\n",
    "# Loop until we have found the first 5 prime numbers\n",
    "while len(prime_set) < 5:\n",
    "    # Check if the current number is prime using the is_prime function\n",
    "    if is_prime(num):\n",
    "        # If the number is prime, add it to the prime_set\n",
    "        prime_set.add(num)\n",
    "\n",
    "    # Move on to the next number for the next iteration\n",
    "    num += 1\n",
    "\n",
    "# Print the set of prime numbers\n",
    "print(\"Set of the first 5 prime numbers:\", prime_set)"
   ]
  },
  {
   "cell_type": "code",
   "execution_count": 39,
   "id": "20817170-f1b8-45dd-b09a-959eada138d3",
   "metadata": {},
   "outputs": [
    {
     "name": "stdout",
     "output_type": "stream",
     "text": [
      "The sets are identical.\n"
     ]
    }
   ],
   "source": [
    "# check sets are identical\n",
    "set1 = {1,2,3,4,5}\n",
    "set2 = {3,1,5,2,4}\n",
    "if set1 == set2:\n",
    "    print(\"The sets are identical.\")\n",
    "else:\n",
    "    print(\"The sets are not identical.\")"
   ]
  },
  {
   "cell_type": "code",
   "execution_count": 40,
   "id": "6cca3fb2-227b-4346-aa63-ade1f2a1a15e",
   "metadata": {},
   "outputs": [
    {
     "name": "stdout",
     "output_type": "stream",
     "text": [
      "Frozen set: frozenset({1, 2, 3, 4, 5})\n"
     ]
    }
   ],
   "source": [
    "# Frozen set\n",
    "elements = [1,2,3,4,5]\n",
    "#frozenset\n",
    "my_frozen_set = frozenset(elements)\n",
    "print(\"Frozen set:\", my_frozen_set)"
   ]
  },
  {
   "cell_type": "code",
   "execution_count": 43,
   "id": "2461a635-5d90-44f3-897e-8e22984514a3",
   "metadata": {},
   "outputs": [
    {
     "name": "stdout",
     "output_type": "stream",
     "text": [
      "are the sets disjoint? True\n"
     ]
    }
   ],
   "source": [
    "# sets are disjoint with another set\n",
    "set1 = {1,2,3,4}\n",
    "set2 = {5,6,7,8}\n",
    "# Disjoint status\n",
    "disjoint_status = set1.isdisjoint(set2)\n",
    "print(\"are the sets disjoint?\", disjoint_status)"
   ]
  },
  {
   "cell_type": "code",
   "execution_count": 45,
   "id": "0b50b622-7bae-4428-8938-985657a2c52c",
   "metadata": {},
   "outputs": [
    {
     "name": "stdout",
     "output_type": "stream",
     "text": [
      "{1, 4, 9, 16, 25}\n"
     ]
    }
   ],
   "source": [
    "# square of numbers from 1 to 5\n",
    "squares_set = set()\n",
    "#number from 1 to 5\n",
    "for num in range(1, 6):\n",
    "    square = num ** 2\n",
    "    squares_set.add(square)\n",
    "print(squares_set)\n",
    "    "
   ]
  },
  {
   "cell_type": "code",
   "execution_count": 47,
   "id": "a9514096-9228-4704-bab7-de9b1c6ab37b",
   "metadata": {},
   "outputs": [
    {
     "name": "stdout",
     "output_type": "stream",
     "text": [
      "Original set: {1, 2, 3, 4, 5}\n",
      "Even Numbers set: {2, 4}\n"
     ]
    }
   ],
   "source": [
    "# Even numbers from a set\n",
    "original_set = {1,2,3,4,5}\n",
    "even_numbers_set = set()\n",
    "for num in original_set:\n",
    "    if num % 2 == 0:\n",
    "        even_numbers_set.add(num)\n",
    "print(\"Original set:\", original_set)\n",
    "print(\"Even Numbers set:\", even_numbers_set)\n"
   ]
  },
  {
   "cell_type": "code",
   "execution_count": 48,
   "id": "50f11847-fe71-4435-a2ed-f44c912b78ed",
   "metadata": {},
   "outputs": [
    {
     "name": "stdout",
     "output_type": "stream",
     "text": [
      "Original Set: {1, 2, 3, 4, 5}\n",
      "Multiplied Set: {2, 4, 6, 8, 10}\n"
     ]
    }
   ],
   "source": [
    "#Multiply elemnt by 2\n",
    "original_set = {1,2,3,4,5}\n",
    "# multiplid element\n",
    "multiplied_set = set()\n",
    "# Element in the original set\n",
    "for num in original_set:\n",
    "    multiplied_num = num * 2\n",
    "    multiplied_set.add(multiplied_num)\n",
    "# The original_set remains unchanged\n",
    "print(\"Original Set:\", original_set)\n",
    "\n",
    "# Display the set with elements multiplied by 2\n",
    "print(\"Multiplied Set:\", multiplied_set)"
   ]
  },
  {
   "cell_type": "code",
   "execution_count": 49,
   "id": "3e30f0df-3b5f-4c67-be13-73bbd234e7b5",
   "metadata": {},
   "outputs": [
    {
     "name": "stdout",
     "output_type": "stream",
     "text": [
      "Generated set of random numbers: {32, 72, 82, 84, 60}\n"
     ]
    }
   ],
   "source": [
    "# Set of random numbers\n",
    "import random \n",
    "# random number set\n",
    "num_random_numbers = 5\n",
    "#store the random numbers\n",
    "random_number_set = set()\n",
    "for _ in range(num_random_numbers):\n",
    "    random_num = random.randint(1,100)\n",
    "    random_number_set.add(random_num)\n",
    "print(\"Generated set of random numbers:\", random_number_set)"
   ]
  },
  {
   "cell_type": "code",
   "execution_count": 50,
   "id": "11715651-86f3-4ebb-85a1-7e59ddf5601a",
   "metadata": {},
   "outputs": [
    {
     "name": "stdout",
     "output_type": "stream",
     "text": [
      "The set is empty.\n"
     ]
    }
   ],
   "source": [
    "# Step 1: Create a set (you can replace this with your own set)\n",
    "my_set = set()\n",
    "\n",
    "# Step 2: Check if the set is empty using the 'if' statement\n",
    "if not my_set:\n",
    "    print(\"The set is empty.\")\n",
    "else:\n",
    "    print(\"The set is not empty.\")"
   ]
  },
  {
   "cell_type": "code",
   "execution_count": 51,
   "id": "cc164b3d-f091-477c-ad53-95cd22a54b32",
   "metadata": {},
   "outputs": [
    {
     "name": "stdout",
     "output_type": "stream",
     "text": [
      "Nested Set: {frozenset({1, 2, 3, 4, 5}), frozenset({6, 7, 8, 9, 10})}\n"
     ]
    }
   ],
   "source": [
    "# Step 1: Create the inner sets\n",
    "set1 = {1, 2, 3, 4, 5}\n",
    "set2 = {6, 7, 8, 9, 10}\n",
    "\n",
    "# Step 2: Create frozensets from the inner sets\n",
    "frozen_set1 = frozenset(set1)\n",
    "frozen_set2 = frozenset(set2)\n",
    "\n",
    "# Step 3: Create the nested set using the frozensets\n",
    "nested_set = {frozen_set1, frozen_set2}\n",
    "\n",
    "# Print the nested set\n",
    "print(\"Nested Set:\", nested_set)"
   ]
  },
  {
   "cell_type": "code",
   "execution_count": 52,
   "id": "36b8b36d-b5f0-4b10-acee-c2c8136c095c",
   "metadata": {},
   "outputs": [
    {
     "name": "stdout",
     "output_type": "stream",
     "text": [
      "Initial set: {1, 2, 3, 4, 5}\n",
      "Set after removing 3 : {1, 2, 4, 5}\n"
     ]
    }
   ],
   "source": [
    "# Create a set with some elements\n",
    "my_set = {1, 2, 3, 4, 5}\n",
    "\n",
    "# Display the initial set\n",
    "print(\"Initial set:\", my_set)\n",
    "\n",
    "# Define the element to be removed\n",
    "element_to_remove = 3\n",
    "\n",
    "# Use the discard() method to remove the element from the set\n",
    "# If the element is not present in the set, discard() won't raise an error\n",
    "my_set.discard(element_to_remove)\n",
    "\n",
    "# Display the set after removing the element\n",
    "print(\"Set after removing\", element_to_remove, \":\", my_set)"
   ]
  },
  {
   "cell_type": "code",
   "execution_count": 53,
   "id": "2c1e536c-75d0-48f7-8c07-dc70b192ccca",
   "metadata": {},
   "outputs": [
    {
     "name": "stdout",
     "output_type": "stream",
     "text": [
      "Set 1: {1, 2, 3, 4, 5}\n",
      "Set 2: {4, 5, 6, 7, 8}\n",
      "Is set1 a subset of set2? False\n",
      "Is set2 a subset of set1? False\n",
      "Intersection: {4, 5}\n",
      "Union: {1, 2, 3, 4, 5, 6, 7, 8}\n",
      "Elements in set1 but not in set2: {1, 2, 3}\n",
      "Elements in set2 but not in set1: {8, 6, 7}\n"
     ]
    }
   ],
   "source": [
    "# Step 1: Define two sets\n",
    "set1 = {1, 2, 3, 4, 5}\n",
    "set2 = {4, 5, 6, 7, 8}\n",
    "\n",
    "# Step 2: Use set operations to compare the sets\n",
    "# Check if set1 is a subset of set2\n",
    "is_subset = set1.issubset(set2)\n",
    "\n",
    "# Check if set2 is a subset of set1\n",
    "is_superset = set1.issuperset(set2)\n",
    "\n",
    "# Find the intersection of the sets\n",
    "intersection = set1.intersection(set2)\n",
    "\n",
    "# Find the union of the sets\n",
    "union = set1.union(set2)\n",
    "\n",
    "# Find the elements that are in set1 but not in set2\n",
    "difference1 = set1.difference(set2)\n",
    "\n",
    "# Find the elements that are in set2 but not in set1\n",
    "difference2 = set2.difference(set1)\n",
    "\n",
    "# Step 3: Print the results\n",
    "print(\"Set 1:\", set1)\n",
    "print(\"Set 2:\", set2)\n",
    "print(\"Is set1 a subset of set2?\", is_subset)\n",
    "print(\"Is set2 a subset of set1?\", is_superset)\n",
    "print(\"Intersection:\", intersection)\n",
    "print(\"Union:\", union)\n",
    "print(\"Elements in set1 but not in set2:\", difference1)\n",
    "print(\"Elements in set2 but not in set1:\", difference2)"
   ]
  },
  {
   "cell_type": "code",
   "execution_count": 54,
   "id": "7e09e37f-3bfb-463f-836c-6e879d78f578",
   "metadata": {},
   "outputs": [
    {
     "name": "stdout",
     "output_type": "stream",
     "text": [
      "{'e', 'o', 'l', 'H'}\n"
     ]
    }
   ],
   "source": [
    "# Set from a string\n",
    "input_string = \"Hello\"\n",
    "# uset the set()\n",
    "char_set = set(input_string)\n",
    "print(char_set)"
   ]
  },
  {
   "cell_type": "code",
   "execution_count": 56,
   "id": "b7396f75-a502-471c-b12e-ae7a48d612d4",
   "metadata": {},
   "outputs": [
    {
     "name": "stdout",
     "output_type": "stream",
     "text": [
      "Original string set: {'789', '456', '123'}\n",
      "Converted integer set: {456, 123, 789}\n"
     ]
    }
   ],
   "source": [
    "# Set of strings to set of integers\n",
    "string_set = {\"123\", \"456\", \"789\"}\n",
    "# empty set\n",
    "integer_set =  set()\n",
    "for string in string_set:\n",
    "    integer_value = int(string)\n",
    "    # add integer to the integer set\n",
    "    integer_set.add(integer_value)\n",
    "print(\"Original string set:\", string_set)\n",
    "print(\"Converted integer set:\",integer_set)"
   ]
  },
  {
   "cell_type": "code",
   "execution_count": 57,
   "id": "cbe99940-76f3-4fce-b178-0f38f35e7b8e",
   "metadata": {},
   "outputs": [
    {
     "name": "stdout",
     "output_type": "stream",
     "text": [
      "Original integers_set: {1, 2, 3, 4, 5}\n",
      "Converted strings_set: {'5', '3', '1', '4', '2'}\n"
     ]
    }
   ],
   "source": [
    "#Create a set of integers\n",
    "integers_set = {1, 2, 3, 4, 5}\n",
    "\n",
    "#Initialize an empty set to store the strings\n",
    "strings_set = set()\n",
    "\n",
    "# Iterate through each integer in the integers_set\n",
    "for num in integers_set:\n",
    "    # SConvert the integer to a string using the str() function\n",
    "    num_str = str(num)\n",
    "\n",
    "    # Add the string representation to the strings_set\n",
    "    strings_set.add(num_str)\n",
    "\n",
    "# Step 6: Print the original integers_set and the converted strings_set\n",
    "print(\"Original integers_set:\", integers_set)\n",
    "print(\"Converted strings_set:\", strings_set)"
   ]
  },
  {
   "cell_type": "code",
   "execution_count": 58,
   "id": "7def4e8f-f95e-4097-a71f-03b74ffbf3c2",
   "metadata": {},
   "outputs": [
    {
     "name": "stdout",
     "output_type": "stream",
     "text": [
      "{1, 2, 3, 4, 5}\n"
     ]
    }
   ],
   "source": [
    "#Set from a tuple\n",
    "input_tuple = (1,2,3,3,4,2,5)\n",
    "output_set = set(input_tuple)\n",
    "print(output_set)"
   ]
  },
  {
   "cell_type": "code",
   "execution_count": 63,
   "id": "df8ad8b0-6cc9-4e50-a12a-675bf1d8d704",
   "metadata": {},
   "outputs": [
    {
     "name": "stdout",
     "output_type": "stream",
     "text": [
      "original set: {1, 2, 3, 4, 5}\n",
      "converted tuple: (1, 2, 3, 4, 5)\n"
     ]
    }
   ],
   "source": [
    "# Set to tuple\n",
    "input_set = {1,2,3,4,5}\n",
    "output_tuple = tuple(input_set)\n",
    "print(\"original set:\", input_set)\n",
    "print(\"converted tuple:\", output_tuple)"
   ]
  },
  {
   "cell_type": "code",
   "execution_count": 64,
   "id": "6a11fac9-a56e-4a9e-86bc-d1bec2214e08",
   "metadata": {},
   "outputs": [
    {
     "name": "stdout",
     "output_type": "stream",
     "text": [
      "Maximum value: 22\n"
     ]
    }
   ],
   "source": [
    "# Define a set with some values\n",
    "my_set = {15, 7, 22, 13, 8}\n",
    "\n",
    "# Initialize a variable to store the maximum value\n",
    "max_value = None\n",
    "\n",
    "# Iterate through each element in the set\n",
    "for num in my_set:\n",
    "    # Check if max_value is None (first iteration) or if the current number is greater than max_value\n",
    "    if max_value is None or num > max_value:\n",
    "        max_value = num  # Update max_value with the current number if it's greater\n",
    "\n",
    "# Print the maximum value\n",
    "print(\"Maximum value:\", max_value)"
   ]
  },
  {
   "cell_type": "code",
   "execution_count": 65,
   "id": "557a58c9-1070-49a6-b2fa-79c3033265c0",
   "metadata": {},
   "outputs": [
    {
     "name": "stdout",
     "output_type": "stream",
     "text": [
      "The minimum value in the set is: 4\n"
     ]
    }
   ],
   "source": [
    "# Create a sample set of numbers\n",
    "number_set = {15, 8, 23, 4, 42, 11}\n",
    "\n",
    "# Initialize a variable to store the minimum value\n",
    "min_value = None\n",
    "\n",
    "# Iterate through each element in the set\n",
    "for num in number_set:\n",
    "    # Check if min_value is None (first iteration) or if num is smaller than the current min_value\n",
    "    if min_value is None or num < min_value:\n",
    "        # Update min_value to the current num since it's smaller\n",
    "        min_value = num\n",
    "\n",
    "# Print the minimum value found in the set\n",
    "print(\"The minimum value in the set is:\", min_value)"
   ]
  },
  {
   "cell_type": "code",
   "execution_count": 66,
   "id": "ce9fad50-a9ef-4b7b-bae7-79ed2e765cd1",
   "metadata": {},
   "outputs": [
    {
     "name": "stdout",
     "output_type": "stream",
     "text": [
      "Enter elements for the set (type 'done' to finish):\n"
     ]
    },
    {
     "name": "stdin",
     "output_type": "stream",
     "text": [
      ">  deepak, kumar,done\n",
      ">  deepak\n",
      ">  done\n"
     ]
    },
    {
     "name": "stdout",
     "output_type": "stream",
     "text": [
      "Final set: {'deepak, kumar,done', 'deepak'}\n"
     ]
    }
   ],
   "source": [
    "# set from user input\n",
    "user_set = set()\n",
    "print(\"Enter elements for the set (type 'done' to finish):\")\n",
    "while True:\n",
    "    user_input = input(\"> \") \n",
    "    if user_input.lower() == 'done':\n",
    "        break\n",
    "    user_set.add(user_input)\n",
    "print(\"Final set:\", user_set)"
   ]
  },
  {
   "cell_type": "code",
   "execution_count": 68,
   "id": "112e11d9-2ce6-44ef-860a-2cf49ae0bc1c",
   "metadata": {},
   "outputs": [
    {
     "name": "stdout",
     "output_type": "stream",
     "text": [
      "The intersection of the two sets is not empty.\n"
     ]
    }
   ],
   "source": [
    "# Interesction of two sets is empty\n",
    "set1 = {1,2,3,4,5}\n",
    "set2 = {4,5,6,7,8}\n",
    "# intersection of two sets\n",
    "intersection_result = set1.intersection(set2)\n",
    "if not intersection_result:\n",
    "    print(\"The intersection of the two sets is empty.\")\n",
    "else:\n",
    "    print(\"The intersection of the two sets is not empty.\")"
   ]
  },
  {
   "cell_type": "code",
   "execution_count": 69,
   "id": "eeb56e00-1adc-40dd-855f-229228af0266",
   "metadata": {},
   "outputs": [
    {
     "name": "stdout",
     "output_type": "stream",
     "text": [
      "Set of the first 5 fibonacci numbers: {0, 1, 2, 3, 5}\n"
     ]
    }
   ],
   "source": [
    "# fibonacci numbers\n",
    "fibonacci_set = set()\n",
    "a, b =0, 1\n",
    "for _ in range(6):\n",
    "    fibonacci_set.add(a)\n",
    "    a, b = b, a + b\n",
    "print(\"Set of the first 5 fibonacci numbers:\", fibonacci_set)"
   ]
  },
  {
   "cell_type": "code",
   "execution_count": 71,
   "id": "f6e1d5c2-5261-49ce-bbad-ff553df16ddc",
   "metadata": {},
   "outputs": [
    {
     "name": "stdout",
     "output_type": "stream",
     "text": [
      "Original List: [2, 4, 6, 8, 4, 10, 6, 12, 14, 8]\n",
      "List with Duplicates Removed: [2, 4, 6, 8, 10, 12, 14]\n"
     ]
    }
   ],
   "source": [
    "# Step 1: Define a list with duplicates\n",
    "original_list = [2, 4, 6, 8, 4, 10, 6, 12, 14, 8]\n",
    "\n",
    "# Step 2: Convert the list to a set\n",
    "unique_set = set(original_list)\n",
    "# Now, 'unique_set' contains only unique elements from 'original_list'\n",
    "\n",
    "# Step 3: Convert the set back to a list\n",
    "unique_list = list(unique_set)\n",
    "# Now, 'unique_list' is a list containing only unique elements\n",
    "\n",
    "# Step 4: Print the original list and the list with duplicates removed\n",
    "print(\"Original List:\", original_list)\n",
    "print(\"List with Duplicates Removed:\", unique_list)"
   ]
  },
  {
   "cell_type": "code",
   "execution_count": 72,
   "id": "39cc727d-e680-4407-b9da-7f68d03feaf9",
   "metadata": {},
   "outputs": [
    {
     "name": "stdout",
     "output_type": "stream",
     "text": [
      "The sets have the same elements.\n"
     ]
    }
   ],
   "source": [
    "def have_same_elements(set1, set2):\n",
    "    # Convert the sets to lists and sort them\n",
    "    sorted_list1 = sorted(list(set1))\n",
    "    sorted_list2 = sorted(list(set2))\n",
    "\n",
    "    # Compare the sorted lists to check if they are equal\n",
    "    return sorted_list1 == sorted_list2\n",
    "\n",
    "# Example sets\n",
    "set1 = {1, 2, 3, 2, 1}\n",
    "set2 = {3, 1, 2}\n",
    "\n",
    "# Check if the sets have the same elements\n",
    "result = have_same_elements(set1, set2)\n",
    "\n",
    "# Print the result\n",
    "if result:\n",
    "    print(\"The sets have the same elements.\")\n",
    "else:\n",
    "    print(\"The sets do not have the same elements.\")"
   ]
  },
  {
   "cell_type": "code",
   "execution_count": 73,
   "id": "cbe0e821-28f2-4828-9c1e-ea13354397a2",
   "metadata": {},
   "outputs": [
    {
     "name": "stdout",
     "output_type": "stream",
     "text": [
      "{1, 2, 4, 8, 16}\n"
     ]
    }
   ],
   "source": [
    "def generate_powers_of_2(n):\n",
    "    # Initialize an empty set to store the powers of 2\n",
    "    powers_of_2 = set()\n",
    "\n",
    "    # Loop from 0 to n-1\n",
    "    for i in range(n):\n",
    "        # Calculate the current power of 2 using the exponentiation operator **\n",
    "        power = 2 ** i\n",
    "\n",
    "        # Add the current power of 2 to the set\n",
    "        powers_of_2.add(power)\n",
    "\n",
    "    # Return the set of powers of 2\n",
    "    return powers_of_2\n",
    "\n",
    "# Define the value of n\n",
    "n = 5\n",
    "\n",
    "# Call the function to generate the set of powers of 2\n",
    "powers_set = generate_powers_of_2(n)\n",
    "\n",
    "# Print the resulting set\n",
    "print(powers_set)"
   ]
  },
  {
   "cell_type": "code",
   "execution_count": 75,
   "id": "6ff556d4-deac-40a5-b277-338dc2cb8bd8",
   "metadata": {},
   "outputs": [
    {
     "name": "stdout",
     "output_type": "stream",
     "text": [
      "Common elements: [7, 9, 12]\n"
     ]
    }
   ],
   "source": [
    "# common elements between a set and a list\n",
    "my_set = {3,7,9,12,15}\n",
    "my_list = {7,12,5,9}\n",
    "# Convert the list to a set for efficinet comparison\n",
    "list_to_set = set(my_list)\n",
    "#empty list to store common elements\n",
    "common_elements = []\n",
    "for element in my_set:\n",
    "    if element in list_to_set:\n",
    "        common_elements.append(element)\n",
    "print(\"Common elements:\", common_elements)"
   ]
  },
  {
   "cell_type": "code",
   "execution_count": 76,
   "id": "0d4af732-48ba-4ba8-ac5b-aae6607e3407",
   "metadata": {},
   "outputs": [
    {
     "name": "stdin",
     "output_type": "stream",
     "text": [
      "Enter the value of n:  20\n"
     ]
    },
    {
     "name": "stdout",
     "output_type": "stream",
     "text": [
      "The set of the first 20 triangular numbers is: {1, 3, 6, 136, 10, 15, 21, 153, 28, 36, 171, 45, 55, 190, 66, 78, 210, 91, 105, 120}\n"
     ]
    }
   ],
   "source": [
    "def generate_triangular_numbers(n):\n",
    "    triangular_numbers = set()  # Create an empty set to store the triangular numbers\n",
    "    for i in range(1, n + 1):\n",
    "        triangular_number = i * (i + 1) // 2  # Calculate the ith triangular number using the formula\n",
    "        triangular_numbers.add(triangular_number)  # Add the calculated triangular number to the set\n",
    "    return triangular_numbers\n",
    "\n",
    "# Input the value of 'n'\n",
    "n = int(input(\"Enter the value of n: \"))\n",
    "\n",
    "# Call the function to generate the set of first 'n' triangular numbers\n",
    "triangular_set = generate_triangular_numbers(n)\n",
    "\n",
    "# Display the set of triangular numbers\n",
    "print(f\"The set of the first {n} triangular numbers is:\", triangular_set)"
   ]
  },
  {
   "cell_type": "code",
   "execution_count": 77,
   "id": "5de0457b-9c05-4235-abfb-a25a94acb7d6",
   "metadata": {},
   "outputs": [
    {
     "name": "stdout",
     "output_type": "stream",
     "text": [
      "set2 is a subset of set1\n"
     ]
    }
   ],
   "source": [
    "# Check if a set contains another set as a subset.\n",
    "set1 = {1,2,3,4,5}\n",
    "set2 = {3,4}\n",
    "# check if set2 is a subset of set1 \n",
    "is_subset = set2.issubset(set1)\n",
    "if is_subset:\n",
    "    print(\"set2 is a subset of set1\")\n",
    "else:\n",
    "    print(\"set2 is not a subset of set1\")"
   ]
  },
  {
   "cell_type": "code",
   "execution_count": 78,
   "id": "e4536bc8-9ae3-4d48-9853-a3458e729216",
   "metadata": {},
   "outputs": [
    {
     "name": "stdout",
     "output_type": "stream",
     "text": [
      "{0, 1}\n"
     ]
    }
   ],
   "source": [
    "def create_alternating_set(n):\n",
    "    # Initialize an empty set to store the alternating sequence.\n",
    "    alternating_set = set()\n",
    "\n",
    "    # Loop to generate alternating 1s and 0s.\n",
    "    for i in range(n):\n",
    "        # Alternate between adding 1 and 0 to the set based on whether i is even or odd.\n",
    "        if i % 2 == 0:\n",
    "            alternating_set.add(1)  # Add 1 if i is even.\n",
    "        else:\n",
    "            alternating_set.add(0)  # Add 0 if i is odd.\n",
    "\n",
    "    return alternating_set\n",
    "\n",
    "# Define the desired length of the alternating set.\n",
    "length_n = 10\n",
    "\n",
    "# Call the function to create the alternating set of length 'length_n'.\n",
    "result = create_alternating_set(length_n)\n",
    "\n",
    "# Print the resulting set.\n",
    "print(result)"
   ]
  },
  {
   "cell_type": "code",
   "execution_count": 87,
   "id": "8a71bb9a-66e3-4c05-8ab2-42c3abd9d453",
   "metadata": {},
   "outputs": [
    {
     "name": "stdout",
     "output_type": "stream",
     "text": [
      "Merged Set: {1, 2, 3, 4, 5, 6, 7}\n"
     ]
    }
   ],
   "source": [
    "#Step 1: Create multiple sets\n",
    "set1 = {1, 2, 3}\n",
    "set2 = {3, 4, 5}\n",
    "set3 = {5, 6, 7}\n",
    "\n",
    "# Step 2: Use the union() method to merge sets\n",
    "merged_set = set1.union(set2, set3)\n",
    "\n",
    "\n",
    "# Step 3: Print the merged set\n",
    "print(\"Merged Set:\", merged_set)"
   ]
  },
  {
   "cell_type": "code",
   "execution_count": null,
   "id": "c3b3edff-9fdb-46d7-a380-335d41b00ea7",
   "metadata": {},
   "outputs": [],
   "source": []
  }
 ],
 "metadata": {
  "kernelspec": {
   "display_name": "Python 3 (ipykernel)",
   "language": "python",
   "name": "python3"
  },
  "language_info": {
   "codemirror_mode": {
    "name": "ipython",
    "version": 3
   },
   "file_extension": ".py",
   "mimetype": "text/x-python",
   "name": "python",
   "nbconvert_exporter": "python",
   "pygments_lexer": "ipython3",
   "version": "3.10.8"
  }
 },
 "nbformat": 4,
 "nbformat_minor": 5
}
